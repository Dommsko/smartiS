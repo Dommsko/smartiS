{
 "cells": [
  {
   "cell_type": "code",
   "execution_count": 2,
   "metadata": {},
   "outputs": [],
   "source": [
    "from ASmartis import * \n",
    "class KWSR_Diagramm(ASmartis):    \n",
    "    \n",
    "    def __init__(self,parameterList):\n",
    "        super().__init__(parameterList)\n",
    "        width = parameterList[0]\n",
    "        height = parameterList[1]\n",
    "        \n",
    "    def createButtons(self):\n",
    "        pass            \n",
    "    def createChart(self):\n",
    "        \n",
    "        \n",
    "        pass        \n",
    "    def visualize(self):  \n",
    "        pass\n",
    "    def update(self): \n",
    "        pass\n",
    "    def reset(self):\n",
    "        pass "
   ]
  },
  {
   "cell_type": "code",
   "execution_count": null,
   "metadata": {},
   "outputs": [],
   "source": [
    "from ASmartis import * \n",
    "class KomplexeWechselstromrechnung(ASmartis):\n",
    "    \n",
    "    def __init__(self,parameterList):\n",
    "        super().__init__(parameterList)\n",
    "        \n",
    "    def createButtons(self):\n",
    "        pass            \n",
    "    def createChart(self):\n",
    "        pass        \n",
    "    def visualize(self):  \n",
    "        pass\n",
    "    def update(self): \n",
    "        pass\n",
    "    def reset(self):\n",
    "        pass"
   ]
  },
  {
   "cell_type": "code",
   "execution_count": 2,
   "metadata": {},
   "outputs": [
    {
     "name": "stdout",
     "output_type": "stream",
     "text": [
      "False\n"
     ]
    }
   ],
   "source": [
    "test = bool(0)\n",
    "print(test)"
   ]
  },
  {
   "cell_type": "code",
   "execution_count": null,
   "metadata": {},
   "outputs": [],
   "source": []
  }
 ],
 "metadata": {
  "kernelspec": {
   "display_name": "Python 3 (ipykernel)",
   "language": "python",
   "name": "python3"
  },
  "language_info": {
   "codemirror_mode": {
    "name": "ipython",
    "version": 3
   },
   "file_extension": ".py",
   "mimetype": "text/x-python",
   "name": "python",
   "nbconvert_exporter": "python",
   "pygments_lexer": "ipython3",
   "version": "3.7.11"
  }
 },
 "nbformat": 4,
 "nbformat_minor": 4
}
