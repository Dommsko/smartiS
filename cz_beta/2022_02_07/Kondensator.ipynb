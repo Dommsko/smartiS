{
 "cells": [
  {
   "cell_type": "code",
   "execution_count": 17,
   "metadata": {},
   "outputs": [],
   "source": [
    "from ASmartis import * \n",
    "from ipywidgets import HBox\n",
    "\n",
    "class Kondensator(ASmartis):\n",
    "    \n",
    "    def __init__(self,parameterList):\n",
    "        self.voltage = parameterList[0]\n",
    "        self.distance = parameterList[1]\n",
    "        self.area = parameterList[2]\n",
    "        self.dielectric = parameterList[3]\n",
    "        self.outputType = parameterList[4]\n",
    "        self.plateWidth = 20\n",
    "        \n",
    "        super().__init__(parameterList)  \n",
    "        self.reset()\n",
    "        self.updateTime = 0.08\n",
    "    def createButtons(self):        \n",
    "        self.buttonsObject = Buttons(self)\n",
    "        \n",
    "        self.buttonsObject.newReset(\"b_reset\", 40,40) \n",
    "        self.buttonsObject.newFloatTextbox(\"t_voltage\", 1, r\"$U_{2}$\")\n",
    "        self.buttonsObject.newFloatSlider(\"s_voltage\", 1,2,0.05, r\"$U$\")\n",
    "        self.buttonsObject.newIntSlider(\"s_distance\", 100,200,10, r\"$d$\")\n",
    "        self.buttonsObject.newIntSlider(\"s_area\", 100,300,100, r\"$A$\")\n",
    "        self.buttonsObject.newIntSlider(\"s_dielectric\", 1,4,0, r\"$\\varepsilon_{r}$\")\n",
    "        self.buttonsObject.newRadioButtons(\"b_fieldArea\",[\"homogen\", \n",
    "            \"geschichtet, seriell\",\"geschichtet, parallel\"], \"Dielektrikum:\") \n",
    "        self.buttonsObject.newRadioButtons(\"b_fieldType\", [\"E-Feld\",\"D-Feld\"], \"Feldlinien:\")\n",
    "                \n",
    "        self.buttonsStatesDict = self.buttonsObject.getStates()\n",
    "        self.oldButtonsStatesDict = dict(self.buttonsStatesDict)\n",
    "        \n",
    "        \n",
    "            \n",
    "    def createChart(self):        \n",
    "        self.layers = [\"background\",\"capacitor\",\"dielectricum\",\"field\",\"protons\",\"electrons\"]    \n",
    "        self.chartWidth = 400\n",
    "        self.chartHeight = 425\n",
    "        self.chartObject = Chart(self.layers, self.chartWidth, self.chartHeight)\n",
    "                \n",
    "        self.x_capacitorCenter = 200\n",
    "        self.y_capacitorCenter = 180\n",
    "        \n",
    "        currentLayer = \"background\"\n",
    "        self.chartObject.changeLayerLook(currentLayer,\"lineColor\",\"#000000\")\n",
    "        self.chartObject.changeLayerLook(currentLayer,\"fillingColor\",\"#ffffff\")\n",
    "        self.chartObject.changeLayerLook(currentLayer,\"lineWidth\",2)\n",
    "        \n",
    "        currentLayer = \"capacitor\"\n",
    "        self.chartObject.changeLayerLook(currentLayer,\"lineColor\",\"#000000\")\n",
    "        self.chartObject.changeLayerLook(currentLayer,\"fillingColor\",\"#f0f0f0\")\n",
    "        self.chartObject.changeLayerLook(currentLayer,\"lineWidth\",2)\n",
    "        \n",
    "        currentLayer = \"dielectricum\"\n",
    "        self.chartObject.changeLayerLook(currentLayer,\"lineColor\",\"#99ff99\")        \n",
    "        self.chartObject.changeLayerLook(currentLayer,\"lineWidth\",1)\n",
    "        \n",
    "        currentLayer = \"field\"\n",
    "        self.chartObject.changeLayerLook(currentLayer,\"lineColor\",\"#e8082c\") \n",
    "        self.chartObject.changeLayerLook(currentLayer,\"fillingColor\",\"#e8082c\")\n",
    "        self.chartObject.changeLayerLook(currentLayer,\"lineWidth\",1)\n",
    "        \n",
    "                \n",
    "    def visualize(self):          \n",
    "        chart = self.chartObject.getChart()\n",
    "        buttonsDict = self.buttonsObject.getButtons()\n",
    "          \n",
    "        display(HBox([chart,buttonsDict[\"b_reset\"]]))\n",
    "                # Widgets je nach Diagrammtyp darstellen\n",
    "        if self.outputType == 0:   # Einfluss der Geometrie\n",
    "            display(HBox([buttonsDict[\"s_voltage\"],widgets.Label(value=\"V\")]))\n",
    "            display(HBox([buttonsDict[\"s_distance\"],widgets.Label(value=\"mm\")]))\n",
    "            display(HBox([buttonsDict[\"s_area\"],widgets.Label(value=\"cm²\")]))\n",
    "            \n",
    "        elif self.outputType == 1: # Einfluss des Dielektrikums\n",
    "            display(HBox([buttonsDict[\"s_dielectric\"],widgets.Label(value=\" \")]))\n",
    "            display(HBox([buttonsDict[\"b_fieldArea\"],buttonsDict[\"b_fieldType\"]]))\n",
    "            \n",
    "        elif self.outputType == 2: # Isolierte Anschlussklemmen\n",
    "            display(HBox([buttonsDict[\"t_voltage\"],widgets.Label(value=\"V\")]))\n",
    "            display(HBox([buttonsDict[\"s_distance\"],widgets.Label(value=\"mm\")]))\n",
    "            display(HBox([buttonsDict[\"s_dielectric\"],widgets.Label(value=\" \")]))\n",
    "            display(HBox([buttonsDict[\"b_fieldType\"]]))\n",
    "    \n",
    "        else: #Alle Buttons werden angezeigt\n",
    "            display(HBox([buttonsDict[\"s_voltage\"],buttonsDict[\"t_voltage\"]]))\n",
    "            display(HBox([buttonsDict[\"s_distance\"],buttonsDict[\"s_dielectric\"]]))\n",
    "            display(HBox([buttonsDict[\"s_area\"]]))\n",
    "            display(HBox([buttonsDict[\"b_fieldArea\"],buttonsDict[\"b_fieldType\"]]))\n",
    "        \n",
    "        \n",
    "        \n",
    "    def update(self):   \n",
    "        if self.buttonsStatesDict[\"b_reset\"]:\n",
    "            self.reset() \n",
    "        else:\n",
    "            if self.buttonsStatesDict[\"s_voltage\"] != self.oldButtonsStatesDict[\"s_voltage\"]:\n",
    "                self.draw_chargesAndField()\n",
    "                self.chartObject.update(\"field\",\"protons\",\"electrons\")\n",
    "            elif (self.buttonsStatesDict[\"s_distance\"] != self.oldButtonsStatesDict[\"s_distance\"] or\n",
    "                self.buttonsStatesDict[\"s_area\"] != self.oldButtonsStatesDict[\"s_area\"]):\n",
    "                self.draw_background()\n",
    "                self.draw_capacitor()\n",
    "                self.draw_dielectricum()\n",
    "                self.draw_chargesAndField()    \n",
    "                self.chartObject.update(\"background\",\"capacitor\",\"dielectricum\",\"field\",\"protons\",\"electrons\")\n",
    "                \n",
    "            elif (self.buttonsStatesDict[\"s_dielectric\"] != self.oldButtonsStatesDict[\"s_dielectric\"]or\n",
    "                self.buttonsStatesDict[\"b_fieldArea\"] != self.oldButtonsStatesDict[\"b_fieldArea\"] or\n",
    "                self.buttonsStatesDict[\"b_fieldType\"] != self.oldButtonsStatesDict[\"b_fieldType\"]):\n",
    "                self.draw_dielectricum()\n",
    "                self.draw_chargesAndField() \n",
    "                self.chartObject.update(\"dielectricum\",\"field\",\"protons\",\"electrons\")\n",
    "                \n",
    "                \n",
    "    def reset(self):\n",
    "        self.buttonsObject.changeState(\"s_voltage\",self.voltage)\n",
    "        self.buttonsObject.changeState(\"s_distance\",self.distance)\n",
    "        self.buttonsObject.changeState(\"s_area\",self.area)\n",
    "        self.buttonsObject.changeState(\"s_dielectric\",self.dielectric)\n",
    "           \n",
    "        self.draw_background()\n",
    "        self.draw_capacitor()\n",
    "        self.draw_dielectricum()\n",
    "        self.draw_chargesAndField()    \n",
    "        self.chartObject.update(\"background\",\"capacitor\",\"dielectricum\",\"field\",\"protons\",\"electrons\")\n",
    "        self.buttonsObject.changeState(\"b_reset\",False)\n",
    "        \n",
    "    def draw_background(self):\n",
    "        \n",
    "        currentDistance = self.buttonsStatesDict[\"s_distance\"]+2*self.plateWidth\n",
    "        x_startCapacitor = 25+(350-currentDistance)/2\n",
    "        x_endCapacitor = x_startCapacitor+currentDistance\n",
    "        \n",
    "        \n",
    "        currentLayer = \"background\"\n",
    "        self.chartObject.clearLayer(currentLayer)\n",
    "        self.chartObject.drawLine(currentLayer,25,375,375,375) \n",
    "        self.chartObject.drawCircle(currentLayer,200,375,24)\n",
    "        if self.outputType == 2:\n",
    "            self.chartObject.drawLine(currentLayer,200,385,208,365)\n",
    "            self.chartObject.drawLine(currentLayer,200,385,192,365)\n",
    "        else:\n",
    "            self.chartObject.drawLine(currentLayer,25,375,375,375)\n",
    "            \n",
    "        self.chartObject.drawLine(currentLayer,25,180,25,375)\n",
    "        self.chartObject.drawLine(currentLayer,375,180,375,375)\n",
    "        \n",
    "        self.chartObject.drawLine(currentLayer,25,180,x_startCapacitor,180)\n",
    "        self.chartObject.drawLine(currentLayer,x_endCapacitor,180,375,180)\n",
    "        \n",
    "                \n",
    "    \n",
    "    def draw_capacitor(self):\n",
    "        currentLayer = \"capacitor\"\n",
    "        self.chartObject.clearLayer(currentLayer)\n",
    "        #Maße einer Platte\n",
    "        width = self.plateWidth\n",
    "        height = self.buttonsStatesDict[\"s_area\"]\n",
    "        currentDistance = self.buttonsStatesDict[\"s_distance\"]\n",
    "        #Rechte Platte\n",
    "        x_cap = self.x_capacitorCenter-width-currentDistance/2\n",
    "        y_cap = self.y_capacitorCenter-height/2        \n",
    "        self.chartObject.drawRectangle(currentLayer,x_cap,y_cap,width,height)\n",
    "        #Linke Platte\n",
    "        x_cap = self.x_capacitorCenter+width+currentDistance/2\n",
    "        y_cap = self.y_capacitorCenter-height/2          \n",
    "        self.chartObject.drawRectangle(currentLayer,x_cap,y_cap,-width,height)\n",
    "        \n",
    "        \n",
    "        \n",
    "    def draw_dielectricum(self):\n",
    "        currentLayer = \"dielectricum\"\n",
    "        self.chartObject.clearLayer(currentLayer)\n",
    "        if self.buttonsStatesDict[\"b_fieldArea\"] == \"homogen\":\n",
    "            height = self.buttonsStatesDict[\"s_area\"]\n",
    "            width = self.buttonsStatesDict[\"s_distance\"]\n",
    "            x_start = self.x_capacitorCenter-width/2\n",
    "            y_start = self.y_capacitorCenter-height/2           \n",
    "            \n",
    "        elif self.buttonsStatesDict[\"b_fieldArea\"] == \"geschichtet, seriell\":\n",
    "            height = self.buttonsStatesDict[\"s_area\"]\n",
    "            width = self.buttonsStatesDict[\"s_distance\"]/2\n",
    "            x_start = self.x_capacitorCenter\n",
    "            y_start = self.y_capacitorCenter-height/2 \n",
    "\n",
    "        elif self.buttonsStatesDict[\"b_fieldArea\"] == \"geschichtet, parallel\":\n",
    "            height = self.buttonsStatesDict[\"s_area\"]/2\n",
    "            width = self.buttonsStatesDict[\"s_distance\"]\n",
    "            x_start = self.x_capacitorCenter-width/2\n",
    "            y_start = self.y_capacitorCenter\n",
    "        else:\n",
    "            pass\n",
    "        \n",
    "        \n",
    "        self.chartObject.drawParallelLines(currentLayer,x_start,y_start,\n",
    "                width, height, self.buttonsStatesDict[\"s_dielectric\"]*10, \"diagonal\")\n",
    "    \n",
    "    def draw_chargesAndField(self):\n",
    "        \n",
    "        distance = self.buttonsStatesDict[\"s_distance\"] \n",
    "        area = self.buttonsStatesDict[\"s_area\"]\n",
    "        dielectricum = self.buttonsStatesDict[\"s_dielectric\"]\n",
    "        fieldArea = self.buttonsStatesDict[\"b_fieldArea\"] \n",
    "        fieldType = self.buttonsStatesDict[\"b_fieldType\"]\n",
    "        #voltage = self.buttonsStatesDict[\"s_voltage\"]\n",
    "        \n",
    "        \n",
    "        #Spannung/Ladung bestimmen\n",
    "        if self.outputType == 0:\n",
    "            voltage = self.buttonsStatesDict[\"s_voltage\"]*3\n",
    "            #Abstand zwischen Ladungen\n",
    "            chargesDistance = distance/(voltage*dielectricum)\n",
    "            #Anzahl der Ladungen\n",
    "            n_charges = int(area/chargesDistance)\n",
    "            #Bereich Ladungen\n",
    "            chargesArea = n_charges*chargesDistance\n",
    "            \n",
    "        elif self.outputType == 1:  \n",
    "            voltage = self.buttonsStatesDict[\"s_voltage\"]\n",
    "            #Abstand zwischen Ladungen\n",
    "            chargesDistance = distance/(voltage*dielectricum)\n",
    "            #Anzahl der Ladungen\n",
    "            n_charges = int(area/chargesDistance)\n",
    "            \n",
    "        else:\n",
    "            n_charges = 10 \n",
    "            voltage = n_charges*distance/(dielectricum*area)/10\n",
    "            chargesDistance = int(area/n_charges)\n",
    "            self.buttonsObject.changeState(\"t_voltage\",voltage)\n",
    "        \n",
    "        #Bereich Ladungen\n",
    "        chargesArea = n_charges*chargesDistance\n",
    "        \n",
    "        layerProtons = \"protons\"\n",
    "        layerElectrons = \"electrons\"\n",
    "        layerField = \"field\"\n",
    "        self.chartObject.clearLayer(layerProtons)\n",
    "        self.chartObject.clearLayer(layerElectrons)\n",
    "        self.chartObject.clearLayer(layerField)\n",
    "        radiusCharges = 6\n",
    "        \n",
    "        x_protons = self.x_capacitorCenter-distance/2-radiusCharges\n",
    "        x_electrons = self.x_capacitorCenter+distance/2+radiusCharges\n",
    "        x_arrow = self.x_capacitorCenter-distance/2\n",
    "        \n",
    "        n = n_charges\n",
    "        y_start = (self.y_capacitorCenter-chargesArea/2)+chargesDistance/2\n",
    "        \n",
    "        if fieldArea == \"homogen\":\n",
    "            for i in range(n):\n",
    "                self.chartObject.drawProton(layerProtons,x_protons,y_start+i*chargesDistance,radiusCharges)\n",
    "                self.chartObject.drawElectron(layerElectrons,x_electrons,y_start+i*chargesDistance,radiusCharges)\n",
    "                \n",
    "\n",
    "                if fieldType == \"D-Feld\":\n",
    "                    self.chartObject.drawArrow(layerField,x_arrow,y_start+i*chargesDistance,x_arrow+distance,y_start+i*chargesDistance,10,6)\n",
    "                elif fieldType == \"E-Feld\" and i%dielectricum==0:\n",
    "                    self.chartObject.drawArrow(layerField,x_arrow,y_start+i*chargesDistance,x_arrow+distance,y_start+i*chargesDistance,10,6)\n",
    "                                    \n",
    "        elif fieldArea == \"geschichtet, seriell\":\n",
    "            for i in range(n):\n",
    "                self.chartObject.drawProton(layerProtons,x_protons,y_start+i*chargesDistance,radiusCharges)\n",
    "                self.chartObject.drawElectron(layerElectrons,x_electrons,y_start+i*chargesDistance,radiusCharges)\n",
    "                if fieldType == \"D-Feld\":\n",
    "                    self.chartObject.drawArrow(layerField,x_arrow,y_start+i*chargesDistance,x_arrow+distance,y_start+i*chargesDistance,10,6)\n",
    "                elif fieldType == \"E-Feld\":\n",
    "                    self.chartObject.drawArrow(layerField,x_arrow,y_start+i*chargesDistance,x_arrow+distance/2,y_start+i*chargesDistance,10,6)\n",
    "                    if i%dielectricum==0:\n",
    "                        self.chartObject.drawArrow(layerField,x_arrow+distance/2,y_start+i*chargesDistance,x_arrow+distance,y_start+i*chargesDistance,10,6)\n",
    "                \n",
    "        elif fieldArea == \"geschichtet, parallel\":\n",
    "            for i in range(0,int(abs(n/2)),2):\n",
    "                self.chartObject.drawProton(layerProtons,x_protons,y_start+i*chargesDistance,radiusCharges)\n",
    "                self.chartObject.drawElectron(layerElectrons,x_electrons,y_start+i*chargesDistance,radiusCharges)\n",
    "                if fieldType == \"D-Feld\":\n",
    "                    self.chartObject.drawArrow(layerField,x_arrow,y_start+i*chargesDistance,x_arrow+distance,y_start+i*chargesDistance,10,6)\n",
    "                elif fieldType == \"E-Feld\" and i%dielectricum==0:\n",
    "                    self.chartObject.drawArrow(layerField,x_arrow,y_start+i*chargesDistance,x_arrow+distance,y_start+i*chargesDistance,10,6)\n",
    "        \n",
    "            for i in range(int(abs(n/2)),int(n),1):\n",
    "                self.chartObject.drawProton(layerProtons,x_protons,y_start+i*chargesDistance,radiusCharges)\n",
    "                self.chartObject.drawElectron(layerElectrons,x_electrons,y_start+i*chargesDistance,radiusCharges)\n",
    "                if fieldType == \"D-Feld\":\n",
    "                    self.chartObject.drawArrow(layerField,x_arrow,y_start+i*chargesDistance,x_arrow+distance,y_start+i*chargesDistance,10,6)\n",
    "                elif fieldType == \"E-Feld\" and i%dielectricum==0:\n",
    "                    self.chartObject.drawArrow(layerField,x_arrow,y_start+i*chargesDistance,x_arrow+distance,y_start+i*chargesDistance,10,6)\n",
    "        \n",
    "        else:\n",
    "            pass"
   ]
  },
  {
   "cell_type": "code",
   "execution_count": 18,
   "metadata": {},
   "outputs": [
    {
     "data": {
      "application/vnd.jupyter.widget-view+json": {
       "model_id": "e4fdce70b7a84cc383bcbee1807da4a2",
       "version_major": 2,
       "version_minor": 0
      },
      "text/plain": [
       "HBox(children=(MultiCanvas(height=425, width=400), ToggleButton(value=False, icon='undo', layout=Layout(height…"
      ]
     },
     "metadata": {},
     "output_type": "display_data"
    },
    {
     "data": {
      "application/vnd.jupyter.widget-view+json": {
       "model_id": "31925e3e3c21475f9e9984e729a8385c",
       "version_major": 2,
       "version_minor": 0
      },
      "text/plain": [
       "HBox(children=(FloatSlider(value=1.0, description='$U$', max=2.0, min=1.0), Label(value='V')))"
      ]
     },
     "metadata": {},
     "output_type": "display_data"
    },
    {
     "data": {
      "application/vnd.jupyter.widget-view+json": {
       "model_id": "5d828751861240ad8233a9bd5baed1ba",
       "version_major": 2,
       "version_minor": 0
      },
      "text/plain": [
       "HBox(children=(IntSlider(value=100, description='$d$', max=200, min=100), Label(value='mm')))"
      ]
     },
     "metadata": {},
     "output_type": "display_data"
    },
    {
     "data": {
      "application/vnd.jupyter.widget-view+json": {
       "model_id": "3a083312514f4b54969cbdaf2c09ed56",
       "version_major": 2,
       "version_minor": 0
      },
      "text/plain": [
       "HBox(children=(IntSlider(value=200, description='$A$', max=300, min=100), Label(value='cm²')))"
      ]
     },
     "metadata": {},
     "output_type": "display_data"
    }
   ],
   "source": [
    "if __name__ == '__main__':\n",
    "    e = Kondensator([1, 100, 200, 1, 0])\n",
    "    e.draw_chargesAndField()\n",
    "    e.visualize()\n",
    "    e.start()"
   ]
  },
  {
   "cell_type": "code",
   "execution_count": 19,
   "metadata": {},
   "outputs": [
    {
     "data": {
      "application/vnd.jupyter.widget-view+json": {
       "model_id": "4ae634ee6e24493caa540d25f77627dc",
       "version_major": 2,
       "version_minor": 0
      },
      "text/plain": [
       "HBox(children=(MultiCanvas(height=425, width=400), ToggleButton(value=False, icon='undo', layout=Layout(height…"
      ]
     },
     "metadata": {},
     "output_type": "display_data"
    },
    {
     "data": {
      "application/vnd.jupyter.widget-view+json": {
       "model_id": "83bf2a96bb014a46b11d66eac7980c75",
       "version_major": 2,
       "version_minor": 0
      },
      "text/plain": [
       "HBox(children=(IntSlider(value=1, description='$\\\\varepsilon_{r}$', max=4, min=1), Label(value=' ')))"
      ]
     },
     "metadata": {},
     "output_type": "display_data"
    },
    {
     "data": {
      "application/vnd.jupyter.widget-view+json": {
       "model_id": "db593b43e605499bb8ba8a3de9266587",
       "version_major": 2,
       "version_minor": 0
      },
      "text/plain": [
       "HBox(children=(RadioButtons(description='Dielektrikum:', options=('homogen', 'geschichtet, seriell', 'geschich…"
      ]
     },
     "metadata": {},
     "output_type": "display_data"
    }
   ],
   "source": [
    "if __name__ == '__main__':\n",
    "    e = Kondensator([1, 90, 200, 1, 1])\n",
    "    e.draw_chargesAndField()\n",
    "    \n",
    "    e.visualize()\n",
    "    e.start()"
   ]
  },
  {
   "cell_type": "code",
   "execution_count": 20,
   "metadata": {},
   "outputs": [
    {
     "data": {
      "application/vnd.jupyter.widget-view+json": {
       "model_id": "80deccea151044cf87b01a434ca63ac0",
       "version_major": 2,
       "version_minor": 0
      },
      "text/plain": [
       "HBox(children=(MultiCanvas(height=425, width=400), ToggleButton(value=False, icon='undo', layout=Layout(height…"
      ]
     },
     "metadata": {},
     "output_type": "display_data"
    },
    {
     "data": {
      "application/vnd.jupyter.widget-view+json": {
       "model_id": "5399e9e5546a4ee693617d8c4bf61b87",
       "version_major": 2,
       "version_minor": 0
      },
      "text/plain": [
       "HBox(children=(BoundedFloatText(value=0.5, description='$U_{2}$', disabled=True), Label(value='V')))"
      ]
     },
     "metadata": {},
     "output_type": "display_data"
    },
    {
     "data": {
      "application/vnd.jupyter.widget-view+json": {
       "model_id": "d1c585b7cca2437c87f0f76a59726364",
       "version_major": 2,
       "version_minor": 0
      },
      "text/plain": [
       "HBox(children=(IntSlider(value=100, description='$d$', max=200, min=100), Label(value='mm')))"
      ]
     },
     "metadata": {},
     "output_type": "display_data"
    },
    {
     "data": {
      "application/vnd.jupyter.widget-view+json": {
       "model_id": "c1ea6e61a4fd46d5b1e1e8e85774e37d",
       "version_major": 2,
       "version_minor": 0
      },
      "text/plain": [
       "HBox(children=(IntSlider(value=1, description='$\\\\varepsilon_{r}$', max=4, min=1), Label(value=' ')))"
      ]
     },
     "metadata": {},
     "output_type": "display_data"
    },
    {
     "data": {
      "application/vnd.jupyter.widget-view+json": {
       "model_id": "59eb10c5bf4e425eba37df4787938da7",
       "version_major": 2,
       "version_minor": 0
      },
      "text/plain": [
       "HBox(children=(RadioButtons(description='Feldlinien:', options=('E-Feld', 'D-Feld'), value='E-Feld'),))"
      ]
     },
     "metadata": {},
     "output_type": "display_data"
    }
   ],
   "source": [
    "if __name__ == '__main__':\n",
    "    e = Kondensator([1, 100, 200, 1, 2])\n",
    "    e.draw_chargesAndField()\n",
    "    e.visualize()\n",
    "    e.start()"
   ]
  },
  {
   "cell_type": "code",
   "execution_count": null,
   "metadata": {},
   "outputs": [],
   "source": []
  }
 ],
 "metadata": {
  "kernelspec": {
   "display_name": "Python 3 (ipykernel)",
   "language": "python",
   "name": "python3"
  },
  "language_info": {
   "codemirror_mode": {
    "name": "ipython",
    "version": 3
   },
   "file_extension": ".py",
   "mimetype": "text/x-python",
   "name": "python",
   "nbconvert_exporter": "python",
   "pygments_lexer": "ipython3",
   "version": "3.7.11"
  }
 },
 "nbformat": 4,
 "nbformat_minor": 4
}
