{
 "cells": [
  {
   "cell_type": "code",
   "execution_count": 1,
   "metadata": {},
   "outputs": [],
   "source": [
    "import import_ipynb"
   ]
  },
  {
   "cell_type": "code",
   "execution_count": 2,
   "metadata": {},
   "outputs": [
    {
     "name": "stdout",
     "output_type": "stream",
     "text": [
      "importing Jupyter notebook from ElektronImFeld.ipynb\n",
      "KonstruktorS\n",
      "Konstruktor\n",
      "KonstruktorE\n"
     ]
    },
    {
     "data": {
      "application/vnd.jupyter.widget-view+json": {
       "model_id": "c196fff890f1412582568541fa0649a5",
       "version_major": 2,
       "version_minor": 0
      },
      "text/plain": [
       "HBox(children=(MultiCanvas(height=300), ToggleButton(value=False, icon='play', layout=Layout(height='40px', wi…"
      ]
     },
     "metadata": {},
     "output_type": "display_data"
    },
    {
     "data": {
      "application/vnd.jupyter.widget-view+json": {
       "model_id": "12e75169403144e6b96803b90d686ee0",
       "version_major": 2,
       "version_minor": 0
      },
      "text/plain": [
       "HBox(children=(RadioButtons(description='Feldtyp', options=('E', 'B'), value='E'), VBox(children=(FloatSlider(…"
      ]
     },
     "metadata": {},
     "output_type": "display_data"
    },
    {
     "name": "stdout",
     "output_type": "stream",
     "text": [
      "deleteS\n",
      "importing Jupyter notebook from EmptySmarti.ipynb\n",
      "KonstruktorS\n",
      "Konstruktor\n"
     ]
    },
    {
     "data": {
      "application/vnd.jupyter.widget-view+json": {
       "model_id": "e6f892471ea94186ae7c2b0a83498130",
       "version_major": 2,
       "version_minor": 0
      },
      "text/plain": [
       "HBox(children=(MultiCanvas(height=300), ToggleButton(value=False, icon='play', layout=Layout(height='40px', wi…"
      ]
     },
     "metadata": {},
     "output_type": "display_data"
    }
   ],
   "source": [
    "from ElektronImFeld import *\n",
    "from EmptySmarti import *  \n",
    "from Smartis import *   \n",
    "from Buttons import *   \n",
    "from Chart2 import *\n",
    "from ipywidgets import HBox, VBox, Layout\n",
    "from math import pi, sin, cos\n",
    "from IPython.display import clear_output\n",
    "\n",
    "class Replay(Smartis):\n",
    "    \n",
    "    def __init__(self):\n",
    "        super().__init__()\n",
    "        self.stopSendInformation()\n",
    "        self.updateTime = 1\n",
    "        self.replayIndex = 0\n",
    "        self.dataArray = []\n",
    "        \n",
    "    def createButtons(self):\n",
    "        #Erzeuge das Object, welches alle Buttons managt\n",
    "        self.buttonsObject = Buttons(self)        \n",
    "        \n",
    "        #Erzeuge verschiedene Buttons\n",
    "        button_play = self.buttonsObject.newTogglePlayPause(\"b_play\", 40,40)\n",
    "        \n",
    "        self.buttonsObject.disabled(\"b_play\",True)\n",
    "        \n",
    "        #Aktualisiere ein Dictionarie mit den Stati der Buttons        \n",
    "        self.buttonStatesDict = self.buttonsObject.getStates()\n",
    "            \n",
    "    def createChart(self):\n",
    "        pass\n",
    "    \n",
    "    def createSmartiObjects(self):\n",
    "        \n",
    "        \n",
    "        self.currentSmarti = ElektronImFeld()\n",
    "        self.currentSmarti.stopSendInformation()\n",
    "        self.currentButtonObject = self.currentSmarti.getButtonObject()\n",
    "        self.currentButtons = self.currentButtonObject.getButtons()\n",
    "        \n",
    "\n",
    "            \n",
    "            \n",
    "        #self.empty = EmptySmarti()\n",
    "        #self.empty.stopSendInformation()     \n",
    "        #self.empty.visualize()\n",
    "    \n",
    "    def update(self):     \n",
    "        self.updating_example_layer_1()   \n",
    "        \n",
    "\n",
    "    def visualize(self):   \n",
    "        #Holen der einzelnen Buttons und Charts zur Darstellung\n",
    "        self.buttonsDict = self.buttonsObject.getButtons()\n",
    "          \n",
    "        #Darstellung   \n",
    "        clear_output(wait=True)\n",
    "        display(HBox([self.buttonsDict[\"b_play\"]]))\n",
    "        \n",
    "        self.currentSmarti.visualize()\n",
    "        self.currentSmarti.start()\n",
    "\n",
    "        for key in self.currentButtons:\n",
    "            #print(self.currentButtons[key])\n",
    "            self.currentButtonObject.disabled(key,True)\n",
    "     \n",
    "    def updating_example_layer_1(self):\n",
    "        pass\n",
    "\n",
    "        \n",
    "    def getData(self):\n",
    "        self.dataArray = self.server.getInformation()\n",
    "        #print(self.dataArray)\n",
    "        \n",
    "    def startReplay(self):\n",
    "        #Array Positions:\n",
    "        smartiPosition = 1\n",
    "        timePosition = 2\n",
    "        buttonPosition = 3\n",
    "        valuePosition = 4\n",
    "        dataLength = len(self.dataArray)\n",
    "        i = self.replayIndex\n",
    "        currentData = self.dataArray[i]\n",
    "        self.currentButtonObject.changeStates(currentData[buttonPosition],self.castingValue(currentData[valuePosition]))\n",
    "        #print(currentData[buttonPosition],self.castingValue(currentData[valuePosition]))\n",
    "        currentTime = datetime.strptime(currentData[timePosition], \"%m/%d/%Y, %H:%M:%S.%f\")-timedelta(seconds=0)\n",
    "        \n",
    "        if i < dataLength-1:\n",
    "            nextTime = datetime.strptime(self.dataArray[i+1][timePosition], \"%m/%d/%Y, %H:%M:%S.%f\")-timedelta(seconds=0)\n",
    "            timeDiff = nextTime-currentTime\n",
    "            print(timeDiff.total_seconds())    \n",
    "            threading.Timer(round(timeDiff.total_seconds(),3), self.startReplay).start()\n",
    "            self.replayIndex+=1\n",
    "        else:\n",
    "            self.replayIndex = 0\n",
    "        \n",
    "     \n",
    "    def castingValue(self,value):\n",
    "        if value == \"True\" or value == \"False\":\n",
    "            return bool(value)\n",
    "        else:\n",
    "            try:\n",
    "                a = float(value)\n",
    "                b = int(value)\n",
    "                if a != b:\n",
    "                    return a\n",
    "                else:\n",
    "                    return b\n",
    "            except:\n",
    "                #raise ValueError(\"failed to coerce str to int or float\")\n",
    "                return value\n",
    "            \n",
    "        \n",
    "    \n",
    "            "
   ]
  },
  {
   "cell_type": "code",
   "execution_count": 3,
   "metadata": {
    "scrolled": false
   },
   "outputs": [
    {
     "data": {
      "application/vnd.jupyter.widget-view+json": {
       "model_id": "e203219917fd4f91a035a102488f4291",
       "version_major": 2,
       "version_minor": 0
      },
      "text/plain": [
       "HBox(children=(ToggleButton(value=False, disabled=True, icon='play', layout=Layout(height='40px', width='40px'…"
      ]
     },
     "metadata": {},
     "output_type": "display_data"
    },
    {
     "data": {
      "application/vnd.jupyter.widget-view+json": {
       "model_id": "0b41d00a626343d78a9815856a4cbc6e",
       "version_major": 2,
       "version_minor": 0
      },
      "text/plain": [
       "HBox(children=(MultiCanvas(height=300), ToggleButton(value=False, icon='play', layout=Layout(height='40px', wi…"
      ]
     },
     "metadata": {},
     "output_type": "display_data"
    },
    {
     "data": {
      "application/vnd.jupyter.widget-view+json": {
       "model_id": "53821e3430bf4e039a5e55b77219b308",
       "version_major": 2,
       "version_minor": 0
      },
      "text/plain": [
       "HBox(children=(RadioButtons(description='Feldtyp', options=('E', 'B'), value='E'), VBox(children=(FloatSlider(…"
      ]
     },
     "metadata": {},
     "output_type": "display_data"
    }
   ],
   "source": [
    "e = Replay()\n",
    "\n",
    "e.createSmartiObjects()\n",
    "e.visualize()\n"
   ]
  },
  {
   "cell_type": "code",
   "execution_count": 9,
   "metadata": {},
   "outputs": [
    {
     "name": "stdout",
     "output_type": "stream",
     "text": [
      "2.690318\n",
      "1.260024\n",
      "0.079636\n",
      "0.080095\n",
      "0.059984\n",
      "0.080081\n",
      "0.059624\n",
      "0.080278\n",
      "0.36023\n",
      "1.886528\n",
      "0.063074\n",
      "0.160281\n",
      "0.199727\n",
      "4.250003\n"
     ]
    }
   ],
   "source": [
    "e.getData()\n",
    "e.startReplay()"
   ]
  },
  {
   "cell_type": "code",
   "execution_count": null,
   "metadata": {},
   "outputs": [],
   "source": []
  }
 ],
 "metadata": {
  "kernelspec": {
   "display_name": "Python 3",
   "language": "python",
   "name": "python3"
  },
  "language_info": {
   "codemirror_mode": {
    "name": "ipython",
    "version": 3
   },
   "file_extension": ".py",
   "mimetype": "text/x-python",
   "name": "python",
   "nbconvert_exporter": "python",
   "pygments_lexer": "ipython3",
   "version": "3.7.6"
  }
 },
 "nbformat": 4,
 "nbformat_minor": 4
}
