{
 "cells": [
  {
   "cell_type": "code",
   "execution_count": null,
   "metadata": {},
   "outputs": [],
   "source": []
  },
  {
   "cell_type": "code",
   "execution_count": 2,
   "metadata": {},
   "outputs": [],
   "source": [
    "from Smartis import *   \n",
    "from Buttons import *   \n",
    "from Chart2 import *\n",
    "from ipywidgets import HBox, VBox, Layout\n",
    "#from math import pi, sin, cos\n",
    "\n",
    "class ElektronImFeld(Smartis):\n",
    "    \n",
    "    def __init__(self):\n",
    "        super().__init__()\n",
    "        print(\"KonstruktorE\")\n",
    "        #self.updateTime = 0.08\n",
    "        \n",
    "    def createButtons(self):\n",
    "        self.buttonsObject = Buttons(self)\n",
    "        \n",
    "        button_play = self.buttonsObject.newTogglePlayPause(\"b_play\", 40,40)\n",
    "        button_reset = self.buttonsObject.newReset(\"b_reset\", 40,40)\n",
    "        \n",
    "        \n",
    "        slider_velocity = self.buttonsObject.newFloatSlider(\"s_velocity\", 0,100,1)\n",
    "        \n",
    "        buttons_field = self.buttonsObject.newRadioButtons(\"b_field\", [\"E\",\"B\"], \"Feldtyp\") \n",
    "        \n",
    "        slider_field = self.buttonsObject.newIntSlider(\"s_field\", -10,10,0)\n",
    "        \n",
    "        \n",
    "        self.buttonStatesDict = self.buttonsObject.getStates()\n",
    "        self.oldButtonStatesDict = dict(self.buttonStatesDict)\n",
    "        \n",
    "            \n",
    "    def createChart(self):\n",
    "\n",
    "        # Ebenen definieren\n",
    "        self.layers = [\"background\", \"field\", \"path\", \"elektron\"]\n",
    "        self.chartWidth = 700\n",
    "        self.chartHeight = 300\n",
    "        self.chartObject = Chart(self.layers, self.chartWidth, self.chartHeight)\n",
    "        \n",
    "        \n",
    "        ##Background\n",
    "        self.x_fieldStart = 100\n",
    "        self.y_fieldStart = 10        \n",
    "        self.fieldWidth = 500\n",
    "        self.fieldHeight = 280 \n",
    "        currentLayer = \"background\"\n",
    "        self.chartObject.changeLayerLook(currentLayer,\"lineColor\",\"#c0c0c0\")\n",
    "        self.chartObject.changeLayerLook(currentLayer,\"fillingColor\",\"#ffffff\")\n",
    "        self.chartObject.changeLayerLook(currentLayer,\"lineDash\",[3,3])\n",
    "        self.chartObject.drawRectangle(currentLayer,self.x_fieldStart,self.y_fieldStart,\n",
    "            self.fieldWidth,self.fieldHeight,0)       \n",
    "        self.chartObject.update(currentLayer) \n",
    "        \n",
    "        self.createElectron()\n",
    "        self.createPath()\n",
    "        \n",
    "            \n",
    "        \n",
    "    def createElectron(self):\n",
    "        currentLayer = \"elektron\"\n",
    "        \n",
    "        self.chartObject.clearLayer(currentLayer)\n",
    "        \n",
    "        self.oldElectronPosition = [10,150,5]\n",
    "        self.oldElectronVelocity = [0,0,0]\n",
    "        \n",
    "        self.chartObject.changeLayerLook(currentLayer,\"fillingColor\",\"#ffff00\")\n",
    "        self.chartObject.drawCircle(currentLayer,self.oldElectronPosition[0], self.oldElectronPosition[1],\n",
    "            self.oldElectronPosition[2],0) \n",
    "        self.chartObject.update(currentLayer)\n",
    "        \n",
    "    def createPath(self):\n",
    "        currentLayer = \"path\"\n",
    "        self.chartObject.clearLayer(currentLayer)\n",
    "        self.chartObject.changeLayerLook(currentLayer,\"lineColor\",\"#f0f0f0\")\n",
    "        self.chartObject.changeLayerLook(currentLayer,\"lineWidth\",2)\n",
    "        self.chartObject.update(currentLayer)\n",
    "        \n",
    "        \n",
    "\n",
    "        \n",
    "    def updateField(self):\n",
    "        \n",
    "        currentLayer = \"field\"\n",
    "        currentField = self.buttonStatesDict[\"b_field\"]\n",
    "        currentFieldStrength = int(self.buttonStatesDict[\"s_field\"]*2)\n",
    "        \n",
    "        self.chartObject.clearLayer(currentLayer)\n",
    "        \n",
    "        if currentField == \"B\":\n",
    "            self.chartObject.changeLayerLook(currentLayer,\"lineColor\",\"#00d000\")\n",
    "            self.chartObject.changeLayerLook(currentLayer,\"fillingColor\",\"#00d000\")\n",
    "        else:\n",
    "            self.chartObject.changeLayerLook(currentLayer,\"lineColor\",\"#e8082c\")\n",
    "            self.chartObject.changeLayerLook(currentLayer,\"fillingColor\",\"#e8082c\")\n",
    "        \n",
    "        if currentFieldStrength>= 0:\n",
    "            self.chartObject.drawParralelArrows(currentLayer,self.x_fieldStart,self.y_fieldStart,\n",
    "                self.fieldWidth, self.fieldHeight, currentFieldStrength, \"vertical\",10,10)\n",
    "        else:\n",
    "            self.chartObject.drawParralelArrows(currentLayer,self.x_fieldStart,\n",
    "                self.y_fieldStart+self.fieldHeight,-self.fieldWidth, -self.fieldHeight, \n",
    "                currentFieldStrength, \"vertical\",10,10)\n",
    "            \n",
    "        self.chartObject.update(currentLayer)\n",
    "\n",
    "            \n",
    "    def updateElectron(self):\n",
    "        currentElectronLayer = \"elektron\"\n",
    "        currentPathLayer = \"path\"\n",
    "        currentField = self.buttonStatesDict[\"b_field\"]\n",
    "        currentFieldStrength = self.buttonStatesDict[\"s_field\"]\n",
    "        sliderVelocity = self.buttonStatesDict[\"s_velocity\"]\n",
    "        oldXPosition = self.oldElectronPosition[0]\n",
    "        oldYPosition = self.oldElectronPosition[1]\n",
    "        oldZPosition = self.oldElectronPosition[2]\n",
    "        oldXVelocity = self.oldElectronVelocity[0]\n",
    "        oldYVelocity = self.oldElectronVelocity[1]\n",
    "        oldZVelocity = self.oldElectronVelocity[2]\n",
    "        t = 0.05\n",
    "                \n",
    "        if currentField == \"E\":\n",
    "            newXPosition = float(oldXPosition) + t*sliderVelocity\n",
    "            newZVelocity = oldZVelocity\n",
    "            newZPosition = oldZPosition+oldZVelocity*t            \n",
    "            \n",
    "            if newXPosition > self.x_fieldStart and newXPosition <(self.x_fieldStart+self.fieldWidth):\n",
    "                newYVelocity = oldYVelocity-currentFieldStrength*t\n",
    "                newYPosition = float(oldYPosition) + (newYVelocity*t)\n",
    "            else:\n",
    "                newYVelocity = oldYVelocity\n",
    "                newYPosition = oldYPosition+t*newYVelocity             \n",
    "\n",
    "\n",
    "                \n",
    "        elif currentField == \"B\":\n",
    "            newXPosition = float(oldXPosition) + t*sliderVelocity\n",
    "            newYVelocity = oldYVelocity\n",
    "            newYPosition = oldYPosition+t*newYVelocity     \n",
    "            \n",
    "            if newXPosition > self.x_fieldStart and newXPosition <(self.x_fieldStart+self.fieldWidth):\n",
    "                newZVelocity = oldZVelocity+t*sliderVelocity*currentFieldStrength/1000\n",
    "                newZPosition = float(oldZPosition)+(newZVelocity*t)\n",
    "            else:\n",
    "                newZVelocity = oldZVelocity\n",
    "                newZPosition = oldZPosition+oldZVelocity*t\n",
    "            \n",
    "            \n",
    "        if (newXPosition > self.chartWidth or\n",
    "            newYPosition < self.y_fieldStart or newYPosition > (self.y_fieldStart+self.fieldHeight) or\n",
    "            newZPosition < 1):\n",
    "                \n",
    "            self.createElectron()\n",
    "            self.buttonsObject.changeStates(\"b_play\",False)\n",
    "                \n",
    "        else:\n",
    "            \n",
    "            self.chartObject.drawCircle(currentElectronLayer,newXPosition, newYPosition, newZPosition,0)  \n",
    "            self.chartObject.drawCircle(currentPathLayer,newXPosition, newYPosition,1,1)\n",
    "            self.oldElectronPosition[0] = newXPosition\n",
    "            self.oldElectronPosition[1] = newYPosition\n",
    "            self.oldElectronPosition[2] = newZPosition      \n",
    "            self.oldElectronVelocity[1] = newYVelocity\n",
    "            self.oldElectronVelocity[2] = newZVelocity\n",
    " \n",
    "            self.chartObject.update(currentElectronLayer,currentPathLayer)\n",
    "            \n",
    "\n",
    "        \n",
    "\n",
    "    def reset(self):        \n",
    "        \n",
    "        self.buttonsObject.changeStates(\"b_play\",False)\n",
    "        self.buttonsObject.changeStates(\"s_velocity\",1)\n",
    "        self.buttonsObject.changeStates(\"s_field\",0)\n",
    "        self.buttonsObject.changeStates(\"b_field\",\"E\")\n",
    "                \n",
    "        self.createElectron()\n",
    "        self.createPath()\n",
    "        self.updateField()\n",
    "        self.buttonsObject.changeStates(\"b_reset\",False)\n",
    "        \n",
    "        \n",
    "    def update(self):     \n",
    "                \n",
    "        if not self.buttonStatesDict[\"b_reset\"]:\n",
    "            if self.oldButtonStatesDict[\"b_field\"] != self.buttonStatesDict[\"b_field\"]:\n",
    "                self.updateField()\n",
    "                #self.oldButtonStatesDict[\"b_field\"] = self.buttonStatesDict[\"b_field\"]\n",
    "\n",
    "            if self.oldButtonStatesDict[\"s_field\"] != self.buttonStatesDict[\"s_field\"]:\n",
    "                self.updateField()\n",
    "                #self.oldButtonStatesDict[\"s_field\"] = self.buttonStatesDict[\"s_field\"]                                                            \n",
    "\n",
    "            if self.buttonStatesDict[\"b_play\"]:\n",
    "                self.updateElectron()\n",
    "        else:\n",
    "            self.reset()\n",
    "\n",
    "    def visualize(self): \n",
    "        self.buttonsDict = self.buttonsObject.getButtons()\n",
    "        self.chart = self.chartObject.getChart()\n",
    "      \n",
    "        display(HBox([self.chart,self.buttonsDict[\"b_play\"],self.buttonsDict[\"b_reset\"]]))\n",
    "        display(HBox([self.buttonsDict[\"b_field\"],VBox([self.buttonsDict[\"s_velocity\"],self.buttonsDict[\"s_field\"]])]))\n",
    "\n",
    "\n",
    "        \n"
   ]
  },
  {
   "cell_type": "code",
   "execution_count": 3,
   "metadata": {
    "scrolled": false
   },
   "outputs": [
    {
     "name": "stdout",
     "output_type": "stream",
     "text": [
      "KonstruktorS\n",
      "Konstruktor\n",
      "KonstruktorE\n"
     ]
    },
    {
     "data": {
      "application/vnd.jupyter.widget-view+json": {
       "model_id": "49b7fe5f38784dd3ba1b715ba1a92aa9",
       "version_major": 2,
       "version_minor": 0
      },
      "text/plain": [
       "HBox(children=(MultiCanvas(height=300), ToggleButton(value=False, icon='play', layout=Layout(height='40px', wi…"
      ]
     },
     "metadata": {},
     "output_type": "display_data"
    },
    {
     "data": {
      "application/vnd.jupyter.widget-view+json": {
       "model_id": "52e52bbfe9f4491bbe9d0dfa8b79c726",
       "version_major": 2,
       "version_minor": 0
      },
      "text/plain": [
       "HBox(children=(RadioButtons(description='Feldtyp', options=('E', 'B'), value='E'), VBox(children=(FloatSlider(…"
      ]
     },
     "metadata": {},
     "output_type": "display_data"
    },
    {
     "name": "stdout",
     "output_type": "stream",
     "text": [
      "1234 ElektronImFeld 08/01/2021, 12:26:30.613613 b_play True\n",
      "1234 ElektronImFeld 08/01/2021, 12:26:33.020362 s_velocity 12.3\n",
      "1234 ElektronImFeld 08/01/2021, 12:26:33.082860 s_velocity 13.1\n",
      " ElektronImFeld 08/01/2021, 12:26:33.267793 s_velocity 17.1\n",
      "1234 ElektronImFeld 08/01/2021, 12:26:33.321178 s_velocity 19.5\n",
      "1234 ElektronImFeld 08/01/2021, 12:26:33.383677 s_velocity 25.2\n",
      "1234 ElektronImFeld 08/01/2021, 12:26:33.452690 s_velocity 30.8\n",
      "1234 ElektronImFeld 08/01/2021, 12:26:33.521723 s_velocity 33.2\n",
      "1234 ElektronImFeld 08/01/2021, 12:26:36.244403 b_play False\n",
      "1234 ElektronImFeld 08/01/2021, 12:26:36.761567 b_reset True\n"
     ]
    }
   ],
   "source": [
    "e = ElektronImFeld()\n",
    "e.visualize()\n",
    "e.start()\n"
   ]
  },
  {
   "cell_type": "code",
   "execution_count": 3,
   "metadata": {},
   "outputs": [
    {
     "name": "stdout",
     "output_type": "stream",
     "text": [
      "deleteS\n"
     ]
    }
   ],
   "source": [
    "e.__del__()"
   ]
  },
  {
   "cell_type": "code",
   "execution_count": 4,
   "metadata": {},
   "outputs": [
    {
     "data": {
      "text/plain": [
       "{'b_play': False,\n",
       " 'b_reset': False,\n",
       " 's_velocity': 1.0,\n",
       " 'b_field': 'E',\n",
       " 's_field': 0}"
      ]
     },
     "execution_count": 4,
     "metadata": {},
     "output_type": "execute_result"
    }
   ],
   "source": [
    "e.buttonStatesDict"
   ]
  },
  {
   "cell_type": "code",
   "execution_count": 6,
   "metadata": {},
   "outputs": [
    {
     "data": {
      "text/plain": [
       "{'b_play': False,\n",
       " 'b_reset': False,\n",
       " 's_velocity': 1.0,\n",
       " 'b_field': 'E',\n",
       " 's_field': 0}"
      ]
     },
     "execution_count": 6,
     "metadata": {},
     "output_type": "execute_result"
    }
   ],
   "source": [
    "e.oldButtonStatesDict"
   ]
  },
  {
   "cell_type": "code",
   "execution_count": null,
   "metadata": {},
   "outputs": [],
   "source": []
  }
 ],
 "metadata": {
  "kernelspec": {
   "display_name": "Python 3",
   "language": "python",
   "name": "python3"
  },
  "language_info": {
   "codemirror_mode": {
    "name": "ipython",
    "version": 3
   },
   "file_extension": ".py",
   "mimetype": "text/x-python",
   "name": "python",
   "nbconvert_exporter": "python",
   "pygments_lexer": "ipython3",
   "version": "3.7.6"
  }
 },
 "nbformat": 4,
 "nbformat_minor": 4
}
