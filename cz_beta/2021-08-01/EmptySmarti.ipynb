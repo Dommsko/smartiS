{
 "cells": [
  {
   "cell_type": "code",
   "execution_count": 1,
   "metadata": {},
   "outputs": [],
   "source": [
    "from Smartis import *   \n",
    "from Buttons import *   \n",
    "from Chart2 import *\n",
    "from ipywidgets import HBox, VBox, Layout\n",
    "from math import pi, sin, cos"
   ]
  },
  {
   "cell_type": "code",
   "execution_count": 2,
   "metadata": {},
   "outputs": [],
   "source": [
    "class EmptySmarti(Smartis):\n",
    "    \n",
    "    def __init__(self):\n",
    "        super().__init__()\n",
    "        self.updateTime = 1\n",
    "        \n",
    "    def createButtons(self):\n",
    "        #Erzeuge das Object, welches alle Buttons managt\n",
    "        self.buttonsObject = Buttons(self)        \n",
    "        \n",
    "        #Erzeuge verschiedene Buttons\n",
    "        button_play = self.buttonsObject.newTogglePlayPause(\"b_play\", 40,40)\n",
    "        \n",
    "        #Aktualisiere ein Dictionarie mit den Stati der Buttons        \n",
    "        self.buttonStatesDict = self.buttonsObject.getStates()\n",
    "            \n",
    "    def createChart(self):\n",
    "        \n",
    "        #Definition der Layers und der Größe der Chart\n",
    "        self.layers = [\"example_layer_1\", \"example_layer_2\"]\n",
    "        self.chartWidth = 700\n",
    "        self.chartHeight = 300\n",
    "        \n",
    "        #Erzeuge Chart Object, welches die Layer managt\n",
    "        self.chartObject = Chart(self.layers, self.chartWidth, self.chartHeight)\n",
    "        self.oldButtonStatesDict = self.buttonStatesDict.copy()\n",
    "    \n",
    "    def update(self):     \n",
    "        self.updating_example_layer_1()   \n",
    "        \n",
    "\n",
    "    def visualize(self):   \n",
    "        #Holen der einzelnen Buttons und Charts zur Darstellung\n",
    "        self.chart = self.chartObject.getChart()\n",
    "        self.buttonsDict = self.buttonsObject.getButtons()\n",
    "          \n",
    "        #Darstellung    \n",
    "        display(HBox([self.chart,self.buttonsDict[\"b_play\"]]))\n",
    "     \n",
    "    def updating_example_layer_1(self):\n",
    "        currentLayer = \"example_layer_1\"\n",
    "        self.chartObject.clearLayer(currentLayer)\n",
    "        self.chartObject.changeLayerLook(currentLayer,\"lineColor\",\"#f0f0f0\")\n",
    "        self.chartObject.changeLayerLook(currentLayer,\"lineWidth\",2)\n",
    "        self.chartObject.drawCircle(currentLayer,50, 50, 20,0) \n",
    "        self.chartObject.update(currentLayer)        \n",
    "    \n",
    "            \n",
    "\n",
    "        \n"
   ]
  },
  {
   "cell_type": "code",
   "execution_count": 4,
   "metadata": {
    "scrolled": false
   },
   "outputs": [
    {
     "name": "stdout",
     "output_type": "stream",
     "text": [
      "KonstruktorS\n",
      "Konstruktor\n"
     ]
    },
    {
     "data": {
      "application/vnd.jupyter.widget-view+json": {
       "model_id": "d9379e0f13ae4f20a71211d7d3bfa4c2",
       "version_major": 2,
       "version_minor": 0
      },
      "text/plain": [
       "HBox(children=(MultiCanvas(height=300), ToggleButton(value=False, icon='play', layout=Layout(height='40px', wi…"
      ]
     },
     "metadata": {},
     "output_type": "display_data"
    },
    {
     "name": "stdout",
     "output_type": "stream",
     "text": [
      "1234 EmptySmarti 07/02/2021, 08:12:11.100413 b_play True\n",
      "1234 EmptySmarti 07/02/2021, 08:12:12.100848 b_play False\n"
     ]
    }
   ],
   "source": [
    "e = EmptySmarti()\n",
    "e.start()\n",
    "e.visualize()\n"
   ]
  },
  {
   "cell_type": "code",
   "execution_count": 19,
   "metadata": {},
   "outputs": [
    {
     "data": {
      "text/plain": [
       "__main__.EmptySmarti"
      ]
     },
     "execution_count": 19,
     "metadata": {},
     "output_type": "execute_result"
    }
   ],
   "source": [
    "type(e)"
   ]
  },
  {
   "cell_type": "code",
   "execution_count": 6,
   "metadata": {},
   "outputs": [],
   "source": [
    "e.stop()\n",
    "\n"
   ]
  },
  {
   "cell_type": "raw",
   "metadata": {},
   "source": [
    "e.start()"
   ]
  },
  {
   "cell_type": "code",
   "execution_count": null,
   "metadata": {},
   "outputs": [],
   "source": []
  }
 ],
 "metadata": {
  "kernelspec": {
   "display_name": "Python 3",
   "language": "python",
   "name": "python3"
  },
  "language_info": {
   "codemirror_mode": {
    "name": "ipython",
    "version": 3
   },
   "file_extension": ".py",
   "mimetype": "text/x-python",
   "name": "python",
   "nbconvert_exporter": "python",
   "pygments_lexer": "ipython3",
   "version": "3.7.6"
  }
 },
 "nbformat": 4,
 "nbformat_minor": 4
}
