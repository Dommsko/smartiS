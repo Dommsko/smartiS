{
 "cells": [
  {
   "cell_type": "code",
   "execution_count": 1,
   "metadata": {},
   "outputs": [],
   "source": []
  },
  {
   "cell_type": "code",
   "execution_count": 2,
   "metadata": {
    "scrolled": true
   },
   "outputs": [
    {
     "data": {
      "application/vnd.jupyter.widget-view+json": {
       "model_id": "ca12c70370b44809b63ad9ce4856efa7",
       "version_major": 2,
       "version_minor": 0
      },
      "text/plain": [
       "HBox(children=(Dropdown(description='SmartI:', options=(\"ElektronImFeld-('a', 'tree', 'b')\", \"ElektronImFeld-(…"
      ]
     },
     "metadata": {},
     "output_type": "display_data"
    },
    {
     "data": {
      "application/vnd.jupyter.widget-view+json": {
       "model_id": "04f48ed5d77b41378b627af734caff05",
       "version_major": 2,
       "version_minor": 0
      },
      "text/plain": [
       "HBox(children=(MultiCanvas(height=300), ToggleButton(value=False, disabled=True, icon='play', layout=Layout(he…"
      ]
     },
     "metadata": {},
     "output_type": "display_data"
    },
    {
     "data": {
      "application/vnd.jupyter.widget-view+json": {
       "model_id": "59edab77929b481ba97898838c349e35",
       "version_major": 2,
       "version_minor": 0
      },
      "text/plain": [
       "HBox(children=(RadioButtons(description='Feldtyp', disabled=True, options=('E', 'B'), value='E'), VBox(childre…"
      ]
     },
     "metadata": {},
     "output_type": "display_data"
    }
   ],
   "source": [
    "import import_ipynb\n",
    "from ElektronImFeld import ElektronImFeld\n",
    "from EmptySmarti import EmptySmarti\n",
    "from Smartis import *   \n",
    "from Buttons import *   \n",
    "from Chart2 import *\n",
    "from ipywidgets import HBox, VBox, Layout\n",
    "from math import pi, sin, cos\n",
    "from IPython.display import display, clear_output\n",
    "\n",
    "class Replay(Smartis):\n",
    "    \n",
    "    def __init__(self,parameterList):\n",
    "        self.smartiDict ={\"ElektronImFeld\":ElektronImFeld,\"EmptySmarti\":EmptySmarti}\n",
    "        self.smartiObjectDict = {}\n",
    "        super().__init__(parameterList)\n",
    "        self.stopSendInformation()\n",
    "        self.updateTime = 0.5\n",
    "        self.replayIndex = 0\n",
    "        self.dataArray = []\n",
    "        \n",
    "        \n",
    "        \n",
    "    def createButtons(self):        \n",
    "        \n",
    "        #Erzeuge das Object, welches alle Buttons managt\n",
    "        self.buttonsObject = Buttons(self)        \n",
    "        \n",
    "        #Erzeuge verschiedene Buttons\n",
    "        \n",
    "        dropdown_smarti = self.buttonsObject.newDropdown(\"dd_smarti\", [], \"SmartI:\")\n",
    "        dropdown_userID = self.buttonsObject.newDropdown(\"dd_userID\", [], \"UserID:\")\n",
    "        dropdown_runNumber = self.buttonsObject.newDropdown(\"dd_runNumber\", [], \"Durchlauf:\")\n",
    "        button_runNumber = self.buttonsObject.newTogglePlayPause(\"b_runNumber\", 30,30)\n",
    "        \n",
    "\n",
    "     \n",
    "        #Aktualisiere ein Dictionarie mit den Stati der Buttons        \n",
    "        self.buttonStatesDict = self.buttonsObject.getStates()\n",
    "        self.oldButtonStatesDict = dict(self.buttonStatesDict)\n",
    "        \n",
    "        self.initalizeSmartiWidget()\n",
    "        self.initalizeUserIDWidget()\n",
    "        self.initalizeRunNumberWidget()\n",
    "        \n",
    "        self.buttonsDict = self.buttonsObject.getButtons()\n",
    "            \n",
    "    def createChart(self):\n",
    "\n",
    "        for name in self.smartiNames:            \n",
    "            s = name.split(\"-\")\n",
    "            smarti = s[0]\n",
    "            arg = s[1].replace(\"(\", \"\").replace(\")\", \"\")\n",
    "            \n",
    "            newSmarti = self.smartiDict[smarti](arg)    \n",
    "            newSmarti.stopSendInformation()\n",
    "\n",
    "            newButtonObject = newSmarti.getButtonObject()\n",
    "            newButtons = newButtonObject.getButtons()\n",
    "\n",
    "            for key in newButtons:\n",
    "                #print(self.currentButtons[key])\n",
    "                newButtonObject.disabled(key,True)\n",
    "            print(name)\n",
    "            self.smartiObjectDict[name] = newSmarti\n",
    "\n",
    "        self.getCurrentSmarti()\n",
    "            \n",
    "    def visualize(self): \n",
    "        \n",
    "        clear_output()        \n",
    "        \n",
    "        #Darstellung   \n",
    "        display(HBox([self.buttonsDict[\"dd_smarti\"],self.buttonsDict[\"dd_userID\"],\n",
    "                      self.buttonsDict[\"dd_runNumber\"],self.buttonsDict[\"b_runNumber\"]]))\n",
    "        self.currentSmarti.visualize()\n",
    "\n",
    "    \n",
    "    \n",
    "    def getCurrentSmarti(self):\n",
    "        \n",
    "        self.currentSmarti = self.smartiObjectDict[self.buttonStatesDict[\"dd_smarti\"]]\n",
    "            \n",
    "        self.currentButtonObject = self.currentSmarti.getButtonObject()\n",
    "        self.currentButtons = self.currentButtonObject.getButtons()\n",
    "            \n",
    "        \n",
    "\n",
    "     \n",
    "    def update(self):\n",
    "        \n",
    "        if self.oldButtonStatesDict[\"dd_smarti\"]!= self.buttonStatesDict[\"dd_smarti\"]:\n",
    "            self.getCurrentSmarti()\n",
    "            self.visualize()\n",
    "            self.initalizeUserIDWidget()\n",
    "            self.initalizeRunNumberWidget()\n",
    "        if self.oldButtonStatesDict[\"dd_userID\"]!= self.buttonStatesDict[\"dd_userID\"]:\n",
    "            self.initalizeRunNumberWidget()\n",
    "        if self.oldButtonStatesDict[\"b_runNumber\"]!= self.buttonStatesDict[\"b_runNumber\"]:\n",
    "            if self.buttonStatesDict[\"dd_runNumber\"]!= None:\n",
    "                self.dataArray = self.sessionData[self.buttonStatesDict[\"dd_runNumber\"]]\n",
    "                \n",
    "                for key in self.buttonStatesDict:            \n",
    "                    self.buttonsObject.disabled(key,True)\n",
    "                self.currentSmarti.start()\n",
    "                self.startReplay()\n",
    "                self.buttonsObject.changeStates(\"b_runNumber\",False)\n",
    "            else:\n",
    "                self.buttonsObject.changeStates(\"b_runNumber\",False)\n",
    "    \n",
    "\n",
    "        \n",
    "\n",
    "\n",
    "        \n",
    "        \n",
    "        \n",
    "    def initalizeSmartiWidget(self):\n",
    "        self.smartiNames = Server.getAllSmartiNames()\n",
    "        self.buttonsObject.changeOptions(\"dd_smarti\",self.smartiNames)\n",
    "     \n",
    "    def initalizeUserIDWidget(self):\n",
    "        userID = Server.getUserIDofSmarti(self.buttonStatesDict[\"dd_smarti\"])\n",
    "        self.buttonsObject.changeOptions(\"dd_userID\",userID)\n",
    "        \n",
    "    def initalizeRunNumberWidget(self):\n",
    "        #print(self.sessionData)\n",
    "        self.sessionData = Server.getSession(self.buttonStatesDict[\"dd_smarti\"], self.buttonStatesDict[\"dd_userID\"])\n",
    "        if len(self.sessionData)>=1:\n",
    "            numbers = list(range(len(self.sessionData)))\n",
    "        else:\n",
    "            numbers = []\n",
    "            \n",
    "        self.buttonsObject.changeOptions(\"dd_runNumber\",numbers)\n",
    "        \n",
    "    def startReplay(self):\n",
    "        #Array Positions:\n",
    "        userIDPosition = 0\n",
    "        smartiPosition = 1\n",
    "        smartiArgumentsPosition = 2\n",
    "        timePosition = 3\n",
    "        buttonPosition = 4\n",
    "        valuePosition = 5\n",
    "        dataLength = len(self.dataArray)\n",
    "        i = self.replayIndex\n",
    "        currentData = self.dataArray[i]\n",
    "     \n",
    "        self.currentButtonObject.changeStates(currentData[buttonPosition],self.castingValue(currentData[valuePosition]))\n",
    "        #print(currentData[buttonPosition],self.castingValue(currentData[valuePosition]))\n",
    "        currentTime = datetime.strptime(currentData[timePosition], \"%m/%d/%Y, %H:%M:%S.%f\")-timedelta(seconds=0)\n",
    "        \n",
    "        if i < dataLength-1:\n",
    "            nextTime = datetime.strptime(self.dataArray[i+1][timePosition], \"%m/%d/%Y, %H:%M:%S.%f\")-timedelta(seconds=0)\n",
    "            timeDiff = nextTime-currentTime\n",
    "            #print(timeDiff.total_seconds())    \n",
    "            threading.Timer(round(timeDiff.total_seconds(),3), self.startReplay).start()\n",
    "            self.replayIndex+=1\n",
    "        else:\n",
    "            self.replayIndex = 0\n",
    "            for key in self.buttonStatesDict:            \n",
    "                self.buttonsObject.disabled(key,False)\n",
    "                self.currentSmarti.stop()\n",
    "            \n",
    "            \n",
    "            \n",
    "        \n",
    "     \n",
    "    def castingValue(self,value):\n",
    "        if value == \"True\" or value == \"False\":\n",
    "            return bool(value)\n",
    "        else:\n",
    "            try:\n",
    "                a = float(value)\n",
    "                b = int(value)\n",
    "                if a != b:\n",
    "                    return a\n",
    "                else:\n",
    "                    return b\n",
    "            except:\n",
    "                #raise ValueError(\"failed to coerce str to int or float\")\n",
    "                return value\n",
    "            \n",
    "    def clearFile(self):\n",
    "        Server.clearFile()\n",
    "\n",
    "           \n",
    "        \n",
    "r = Replay(None)\n",
    "r.start()\n",
    "r.visualize()    \n",
    "            "
   ]
  },
  {
   "cell_type": "code",
   "execution_count": 2,
   "metadata": {
    "scrolled": false
   },
   "outputs": [],
   "source": [
    "r.clearFile()\n"
   ]
  },
  {
   "cell_type": "code",
   "execution_count": 5,
   "metadata": {},
   "outputs": [
    {
     "data": {
      "text/plain": [
       "<__main__.Square at 0x20a8ecc49c8>"
      ]
     },
     "execution_count": 5,
     "metadata": {},
     "output_type": "execute_result"
    }
   ],
   "source": [
    ">>> class Circle():\n",
    "...     pass\n",
    "... \n",
    ">>> class Square():\n",
    "...     pass\n",
    "... \n",
    ">>> d = { \"square\": Square, \"circle\": Circle}\n",
    ">>> d[\"square\"]()"
   ]
  },
  {
   "cell_type": "code",
   "execution_count": 3,
   "metadata": {},
   "outputs": [],
   "source": [
    "e.stop()"
   ]
  },
  {
   "cell_type": "code",
   "execution_count": null,
   "metadata": {},
   "outputs": [],
   "source": []
  }
 ],
 "metadata": {
  "kernelspec": {
   "display_name": "Python 3",
   "language": "python",
   "name": "python3"
  },
  "language_info": {
   "codemirror_mode": {
    "name": "ipython",
    "version": 3
   },
   "file_extension": ".py",
   "mimetype": "text/x-python",
   "name": "python",
   "nbconvert_exporter": "python",
   "pygments_lexer": "ipython3",
   "version": "3.7.6"
  }
 },
 "nbformat": 4,
 "nbformat_minor": 4
}
