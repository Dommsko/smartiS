{
 "cells": [
  {
   "cell_type": "code",
   "execution_count": 1,
   "metadata": {},
   "outputs": [],
   "source": [
    "from Smartis import *   \n",
    "from Buttons import *   \n",
    "from Chart2 import *\n",
    "from ipywidgets import HBox, VBox, Layout\n",
    "from math import pi, sin, cos"
   ]
  },
  {
   "cell_type": "code",
   "execution_count": 4,
   "metadata": {},
   "outputs": [],
   "source": [
    "class EmptySmarti(Smartis):\n",
    "    \n",
    "    def __init__(self,parameterList):\n",
    "        super().__init__(parameterList)\n",
    "        self.updateTime = 1\n",
    "        \n",
    "    def createButtons(self):\n",
    "        #Erzeuge das Object, welches alle Buttons managt\n",
    "        self.buttonsObject = Buttons(self)        \n",
    "        \n",
    "        #Erzeuge verschiedene Buttons\n",
    "        button_play = self.buttonsObject.newTogglePlayPause(\"b_play\", 40,40)\n",
    "        \n",
    "        #Aktualisiere ein Dictionarie mit den Stati der Buttons        \n",
    "        self.buttonStatesDict = self.buttonsObject.getStates()\n",
    "            \n",
    "    def createChart(self):\n",
    "        \n",
    "        #Definition der Layers und der Größe der Chart\n",
    "        self.layers = [\"example_layer_1\", \"example_layer_2\"]\n",
    "        self.chartWidth = 700\n",
    "        self.chartHeight = 300\n",
    "        \n",
    "        #Erzeuge Chart Object, welches die Layer managt\n",
    "        self.chartObject = Chart(self.layers, self.chartWidth, self.chartHeight)\n",
    "        self.oldButtonStatesDict = self.buttonStatesDict.copy()\n",
    "    \n",
    "    def update(self):     \n",
    "        self.updating_example_layer_1()   \n",
    "        \n",
    "\n",
    "    def visualize(self):   \n",
    "        #Holen der einzelnen Buttons und Charts zur Darstellung\n",
    "        self.chart = self.chartObject.getChart()\n",
    "        self.buttonsDict = self.buttonsObject.getButtons()\n",
    "          \n",
    "        #Darstellung    \n",
    "        display(HBox([self.chart,self.buttonsDict[\"b_play\"]]))\n",
    "     \n",
    "    def updating_example_layer_1(self):\n",
    "        currentLayer = \"example_layer_1\"\n",
    "        self.chartObject.clearLayer(currentLayer)\n",
    "        self.chartObject.changeLayerLook(currentLayer,\"lineColor\",\"#f0f0f0\")\n",
    "        self.chartObject.changeLayerLook(currentLayer,\"lineWidth\",2)\n",
    "        self.chartObject.drawCircle(currentLayer,50, 50, 20,0) \n",
    "        self.chartObject.update(currentLayer)        \n",
    "    \n",
    "            \n",
    "\n",
    "        \n"
   ]
  },
  {
   "cell_type": "code",
   "execution_count": 3,
   "metadata": {
    "scrolled": false
   },
   "outputs": [
    {
     "name": "stdout",
     "output_type": "stream",
     "text": [
      "KonstruktorS\n",
      "Konstruktor\n"
     ]
    },
    {
     "data": {
      "application/vnd.jupyter.widget-view+json": {
       "model_id": "bf199aae99d8451b87c1f30150a886ab",
       "version_major": 2,
       "version_minor": 0
      },
      "text/plain": [
       "HBox(children=(MultiCanvas(height=300), ToggleButton(value=False, icon='play', layout=Layout(height='40px', wi…"
      ]
     },
     "metadata": {},
     "output_type": "display_data"
    },
    {
     "name": "stdout",
     "output_type": "stream",
     "text": [
      "128aa1a5-f04b-412b-92d5-ef7d74d16d90 EmptySmarti 10/15/2021, 13:33:32.890569 b_play True\n",
      "128aa1a5-f04b-412b-92d5-ef7d74d16d90 EmptySmarti 10/15/2021, 13:33:34.897114 b_play False\n",
      "128aa1a5-f04b-412b-92d5-ef7d74d16d90 EmptySmarti 10/15/2021, 13:33:35.900274 b_play True\n",
      "128aa1a5-f04b-412b-92d5-ef7d74d16d90 EmptySmarti 10/15/2021, 13:33:38.910138 b_play False\n"
     ]
    }
   ],
   "source": [
    "empty = EmptySmarti(\"test\")\n",
    "empty.start()\n",
    "empty.visualize()\n"
   ]
  },
  {
   "cell_type": "code",
   "execution_count": 19,
   "metadata": {},
   "outputs": [
    {
     "data": {
      "text/plain": [
       "__main__.EmptySmarti"
      ]
     },
     "execution_count": 19,
     "metadata": {},
     "output_type": "execute_result"
    }
   ],
   "source": []
  },
  {
   "cell_type": "code",
   "execution_count": 6,
   "metadata": {},
   "outputs": [],
   "source": [
    "empty.stop()\n",
    "del empty\n",
    "\n"
   ]
  },
  {
   "cell_type": "raw",
   "metadata": {},
   "source": []
  },
  {
   "cell_type": "code",
   "execution_count": null,
   "metadata": {},
   "outputs": [],
   "source": []
  }
 ],
 "metadata": {
  "kernelspec": {
   "display_name": "Python 3",
   "language": "python",
   "name": "python3"
  },
  "language_info": {
   "codemirror_mode": {
    "name": "ipython",
    "version": 3
   },
   "file_extension": ".py",
   "mimetype": "text/x-python",
   "name": "python",
   "nbconvert_exporter": "python",
   "pygments_lexer": "ipython3",
   "version": "3.7.6"
  }
 },
 "nbformat": 4,
 "nbformat_minor": 4
}
