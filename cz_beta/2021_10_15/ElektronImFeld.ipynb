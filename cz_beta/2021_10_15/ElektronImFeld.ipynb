{
 "cells": [
  {
   "cell_type": "code",
   "execution_count": null,
   "metadata": {},
   "outputs": [],
   "source": []
  },
  {
   "cell_type": "code",
   "execution_count": 1,
   "metadata": {},
   "outputs": [],
   "source": [
    "from Smartis import *   \n",
    "from Buttons import *   \n",
    "from Chart2 import *\n",
    "from ipywidgets import HBox, VBox, Layout\n",
    "from IPython.display import display, clear_output\n",
    "#from math import pi, sin, cos\n",
    "\n",
    "class ElektronImFeld(Smartis):\n",
    "    \n",
    "    def __init__(self,parameterList):\n",
    "        super().__init__(parameterList)\n",
    "        #self.updateTime = 0.08\n",
    "    \n",
    "    def createButtons(self):\n",
    "        self.buttonsObject = Buttons(self)\n",
    "        \n",
    "        button_play = self.buttonsObject.newTogglePlayPause(\"b_play\", 40,40)\n",
    "        button_reset = self.buttonsObject.newReset(\"b_reset\", 40,40)\n",
    "        \n",
    "        \n",
    "        slider_velocity = self.buttonsObject.newFloatSlider(\"s_velocity\", 0,100,1)\n",
    "        \n",
    "        buttons_field = self.buttonsObject.newRadioButtons(\"b_field\", [\"E\",\"B\"], \"Feldtyp\") \n",
    "        \n",
    "        slider_field = self.buttonsObject.newIntSlider(\"s_field\", -10,10,0)\n",
    "        \n",
    "        \n",
    "        self.buttonStatesDict = self.buttonsObject.getStates()\n",
    "        self.oldButtonStatesDict = dict(self.buttonStatesDict)\n",
    "        \n",
    "            \n",
    "    def createChart(self):\n",
    "\n",
    "        # Ebenen definieren\n",
    "        self.layers = [\"background\", \"field\", \"path\", \"elektron\"]\n",
    "        self.chartWidth = 700\n",
    "        self.chartHeight = 300\n",
    "        self.chartObject = Chart(self.layers, self.chartWidth, self.chartHeight)\n",
    "        \n",
    "        \n",
    "        ##Background\n",
    "        self.x_fieldStart = 100\n",
    "        self.y_fieldStart = 10        \n",
    "        self.fieldWidth = 500\n",
    "        self.fieldHeight = 280 \n",
    "        currentLayer = \"background\"\n",
    "        self.chartObject.changeLayerLook(currentLayer,\"lineColor\",\"#c0c0c0\")\n",
    "        self.chartObject.changeLayerLook(currentLayer,\"fillingColor\",\"#ffffff\")\n",
    "        self.chartObject.changeLayerLook(currentLayer,\"lineDash\",[3,3])\n",
    "        self.chartObject.drawRectangle(currentLayer,self.x_fieldStart,self.y_fieldStart,\n",
    "            self.fieldWidth,self.fieldHeight,0)       \n",
    "        self.chartObject.update(currentLayer) \n",
    "        \n",
    "        self.createElectron()\n",
    "        self.createPath()\n",
    "        \n",
    "            \n",
    "        \n",
    "    def createElectron(self):\n",
    "        currentLayer = \"elektron\"\n",
    "        \n",
    "        self.chartObject.clearLayer(currentLayer)\n",
    "        \n",
    "        self.oldElectronPosition = [10,150,5]\n",
    "        self.oldElectronVelocity = [0,0,0]\n",
    "        \n",
    "        self.chartObject.changeLayerLook(currentLayer,\"fillingColor\",\"#ffff00\")\n",
    "        self.chartObject.drawCircle(currentLayer,self.oldElectronPosition[0], self.oldElectronPosition[1],\n",
    "            self.oldElectronPosition[2],0) \n",
    "        self.chartObject.update(currentLayer)\n",
    "        \n",
    "    def createPath(self):\n",
    "        currentLayer = \"path\"\n",
    "        self.chartObject.clearLayer(currentLayer)\n",
    "        self.chartObject.changeLayerLook(currentLayer,\"lineColor\",\"#f0f0f0\")\n",
    "        self.chartObject.changeLayerLook(currentLayer,\"lineWidth\",2)\n",
    "        self.chartObject.update(currentLayer)\n",
    "        \n",
    "        \n",
    "\n",
    "        \n",
    "    def updateField(self):\n",
    "        \n",
    "        currentLayer = \"field\"\n",
    "        currentField = self.buttonStatesDict[\"b_field\"]\n",
    "        currentFieldStrength = int(self.buttonStatesDict[\"s_field\"]*2)\n",
    "        \n",
    "        self.chartObject.clearLayer(currentLayer)\n",
    "        \n",
    "        if currentField == \"B\":\n",
    "            self.chartObject.changeLayerLook(currentLayer,\"lineColor\",\"#00d000\")\n",
    "            self.chartObject.changeLayerLook(currentLayer,\"fillingColor\",\"#00d000\")\n",
    "        else:\n",
    "            self.chartObject.changeLayerLook(currentLayer,\"lineColor\",\"#e8082c\")\n",
    "            self.chartObject.changeLayerLook(currentLayer,\"fillingColor\",\"#e8082c\")\n",
    "        \n",
    "        if currentFieldStrength>= 0:\n",
    "            self.chartObject.drawParralelArrows(currentLayer,self.x_fieldStart,self.y_fieldStart,\n",
    "                self.fieldWidth, self.fieldHeight, currentFieldStrength, \"vertical\",10,10)\n",
    "        else:\n",
    "            self.chartObject.drawParralelArrows(currentLayer,self.x_fieldStart,\n",
    "                self.y_fieldStart+self.fieldHeight,-self.fieldWidth, -self.fieldHeight, \n",
    "                currentFieldStrength, \"vertical\",10,10)\n",
    "            \n",
    "        self.chartObject.update(currentLayer)\n",
    "\n",
    "            \n",
    "    def updateElectron(self):\n",
    "        currentElectronLayer = \"elektron\"\n",
    "        currentPathLayer = \"path\"\n",
    "        currentField = self.buttonStatesDict[\"b_field\"]\n",
    "        currentFieldStrength = self.buttonStatesDict[\"s_field\"]\n",
    "        sliderVelocity = self.buttonStatesDict[\"s_velocity\"]\n",
    "        oldXPosition = self.oldElectronPosition[0]\n",
    "        oldYPosition = self.oldElectronPosition[1]\n",
    "        oldZPosition = self.oldElectronPosition[2]\n",
    "        oldXVelocity = self.oldElectronVelocity[0]\n",
    "        oldYVelocity = self.oldElectronVelocity[1]\n",
    "        oldZVelocity = self.oldElectronVelocity[2]\n",
    "        t = 0.05\n",
    "                \n",
    "        if currentField == \"E\":\n",
    "            newXPosition = float(oldXPosition) + t*sliderVelocity\n",
    "            newZVelocity = oldZVelocity\n",
    "            newZPosition = oldZPosition+oldZVelocity*t            \n",
    "            \n",
    "            if newXPosition > self.x_fieldStart and newXPosition <(self.x_fieldStart+self.fieldWidth):\n",
    "                newYVelocity = oldYVelocity-currentFieldStrength*t\n",
    "                newYPosition = float(oldYPosition) + (newYVelocity*t)\n",
    "            else:\n",
    "                newYVelocity = oldYVelocity\n",
    "                newYPosition = oldYPosition+t*newYVelocity             \n",
    "\n",
    "\n",
    "                \n",
    "        elif currentField == \"B\":\n",
    "            newXPosition = float(oldXPosition) + t*sliderVelocity\n",
    "            newYVelocity = oldYVelocity\n",
    "            newYPosition = oldYPosition+t*newYVelocity     \n",
    "            \n",
    "            if newXPosition > self.x_fieldStart and newXPosition <(self.x_fieldStart+self.fieldWidth):\n",
    "                newZVelocity = oldZVelocity+t*sliderVelocity*currentFieldStrength/1000\n",
    "                newZPosition = float(oldZPosition)+(newZVelocity*t)\n",
    "            else:\n",
    "                newZVelocity = oldZVelocity\n",
    "                newZPosition = oldZPosition+oldZVelocity*t\n",
    "            \n",
    "            \n",
    "        if (newXPosition > self.chartWidth or\n",
    "            newYPosition < self.y_fieldStart or newYPosition > (self.y_fieldStart+self.fieldHeight) or\n",
    "            newZPosition < 1):\n",
    "                \n",
    "            self.createElectron()\n",
    "            self.buttonsObject.changeStates(\"b_play\",False)\n",
    "                \n",
    "        else:\n",
    "            \n",
    "            self.chartObject.drawCircle(currentElectronLayer,newXPosition, newYPosition, newZPosition,0)  \n",
    "            self.chartObject.drawCircle(currentPathLayer,newXPosition, newYPosition,1,1)\n",
    "            self.oldElectronPosition[0] = newXPosition\n",
    "            self.oldElectronPosition[1] = newYPosition\n",
    "            self.oldElectronPosition[2] = newZPosition      \n",
    "            self.oldElectronVelocity[1] = newYVelocity\n",
    "            self.oldElectronVelocity[2] = newZVelocity\n",
    " \n",
    "            self.chartObject.update(currentElectronLayer,currentPathLayer)\n",
    "            \n",
    "\n",
    "        \n",
    "\n",
    "    def reset(self):        \n",
    "        \n",
    "        self.buttonsObject.changeStates(\"b_play\",False)\n",
    "        self.buttonsObject.changeStates(\"s_velocity\",1)\n",
    "        self.buttonsObject.changeStates(\"s_field\",0)\n",
    "        self.buttonsObject.changeStates(\"b_field\",\"E\")\n",
    "                \n",
    "        self.createElectron()\n",
    "        self.createPath()\n",
    "        self.updateField()\n",
    "        self.buttonsObject.changeStates(\"b_reset\",False)\n",
    "        \n",
    "        \n",
    "    def update(self):     \n",
    "                \n",
    "        if not self.buttonStatesDict[\"b_reset\"]:\n",
    "            if self.oldButtonStatesDict[\"b_field\"] != self.buttonStatesDict[\"b_field\"]:\n",
    "                self.updateField()\n",
    "                #self.oldButtonStatesDict[\"b_field\"] = self.buttonStatesDict[\"b_field\"]\n",
    "\n",
    "            if self.oldButtonStatesDict[\"s_field\"] != self.buttonStatesDict[\"s_field\"]:\n",
    "                self.updateField()\n",
    "                #self.oldButtonStatesDict[\"s_field\"] = self.buttonStatesDict[\"s_field\"]                                                            \n",
    "\n",
    "            if self.buttonStatesDict[\"b_play\"]:\n",
    "                self.updateElectron()\n",
    "        else:\n",
    "            self.reset()\n",
    "\n",
    "    def visualize(self): \n",
    "        self.buttonsDict = self.buttonsObject.getButtons()\n",
    "        self.chart = self.chartObject.getChart()\n",
    "      \n",
    "        display(HBox([self.chart,self.buttonsDict[\"b_play\"],self.buttonsDict[\"b_reset\"]]))\n",
    "        display(HBox([self.buttonsDict[\"b_field\"],VBox([self.buttonsDict[\"s_velocity\"],self.buttonsDict[\"s_field\"]])]))\n",
    "    \n",
    "\n",
    "    def __del__(self):\n",
    "        print(\"delete\")\n",
    "        super.__del__(self)\n"
   ]
  },
  {
   "cell_type": "code",
   "execution_count": 2,
   "metadata": {
    "scrolled": false
   },
   "outputs": [
    {
     "name": "stdout",
     "output_type": "stream",
     "text": [
      "Konstruktor\n"
     ]
    },
    {
     "data": {
      "application/vnd.jupyter.widget-view+json": {
       "model_id": "a5a9e9918c2d42c690a5359324c7a56b",
       "version_major": 2,
       "version_minor": 0
      },
      "text/plain": [
       "HBox(children=(MultiCanvas(height=300), ToggleButton(value=False, icon='play', layout=Layout(height='40px', wi…"
      ]
     },
     "metadata": {},
     "output_type": "display_data"
    },
    {
     "data": {
      "application/vnd.jupyter.widget-view+json": {
       "model_id": "217d6802d26545e08f41c95afd1e227d",
       "version_major": 2,
       "version_minor": 0
      },
      "text/plain": [
       "HBox(children=(RadioButtons(description='Feldtyp', options=('E', 'B'), value='E'), VBox(children=(FloatSlider(…"
      ]
     },
     "metadata": {},
     "output_type": "display_data"
    },
    {
     "name": "stdout",
     "output_type": "stream",
     "text": [
      "d84cc2bc-916f-4844-9d16-a1b241466199 ElektronImFeld 5 10/15/2021, 16:56:23.778798 s_velocity 2.6\n",
      "d84cc2bc-916f-4844-9d16-a1b241466199 ElektronImFeld 5 10/15/2021, 16:56:23.847817 s_velocity 19.5\n",
      "d84cc2bc-916f-4844-9d16-a1b241466199 ElektronImFeld 5 10/15/2021, 16:56:23.916849 s_velocity 45.3\n",
      " ElektronImFeld 5 10/15/2021, 16:56:23.979361 s_velocity 54.2\n",
      "d84cc2bc-916f-4844-9d16-a1b241466199 ElektronImFeld 5 10/15/2021, 16:56:24.032748 s_velocity 56.6\n",
      " ElektronImFeld 5 10/15/2021, 16:56:24.095254 s_velocity 59.9\n",
      " ElektronImFeld 5 10/15/2021, 16:56:24.164262 s_velocity 65.5\n",
      "d84cc2bc-916f-4844-9d16-a1b241466199 ElektronImFeld 5 10/15/2021, 16:56:25.182709 s_field -2\n",
      "d84cc2bc-916f-4844-9d16-a1b241466199 ElektronImFeld 5 10/15/2021, 16:56:25.236093 s_field -6\n",
      "d84cc2bc-916f-4844-9d16-a1b241466199 ElektronImFeld 5 10/15/2021, 16:56:25.483547 s_field -7\n",
      "d84cc2bc-916f-4844-9d16-a1b241466199 ElektronImFeld 5 10/15/2021, 16:56:25.621594 s_field -9\n",
      "d84cc2bc-916f-4844-9d16-a1b241466199 ElektronImFeld 5 10/15/2021, 16:56:25.799968 s_field -10\n",
      "d84cc2bc-916f-4844-9d16-a1b241466199 ElektronImFeld 5 10/15/2021, 16:56:30.297391 s_field -8\n",
      "d84cc2bc-916f-4844-9d16-a1b241466199 ElektronImFeld 5 10/15/2021, 16:56:30.366393 s_field -4\n",
      "d84cc2bc-916f-4844-9d16-a1b241466199 ElektronImFeld 5 10/15/2021, 16:56:30.435405 s_field 0\n",
      "d84cc2bc-916f-4844-9d16-a1b241466199 ElektronImFeld 5 10/15/2021, 16:56:30.497905 s_field 1\n",
      "d84cc2bc-916f-4844-9d16-a1b241466199 ElektronImFeld 5 10/15/2021, 16:56:30.566930 s_field 4\n",
      "d84cc2bc-916f-4844-9d16-a1b241466199 ElektronImFeld 5 10/15/2021, 16:56:30.635944 s_field 6\n",
      "d84cc2bc-916f-4844-9d16-a1b241466199 ElektronImFeld 5 10/15/2021, 16:56:30.698457 s_field 7\n",
      " ElektronImFeld 5 10/15/2021, 16:56:30.751828 s_field 9\n",
      "d84cc2bc-916f-4844-9d16-a1b241466199 ElektronImFeld 5 10/15/2021, 16:56:34.948658 b_reset True\n"
     ]
    }
   ],
   "source": [
    "e = ElektronImFeld(\"5\")\n",
    "e.visualize()\n",
    "e.start()\n"
   ]
  },
  {
   "cell_type": "code",
   "execution_count": 1,
   "metadata": {},
   "outputs": [
    {
     "ename": "NameError",
     "evalue": "name 'e' is not defined",
     "output_type": "error",
     "traceback": [
      "\u001b[1;31m---------------------------------------------------------------------------\u001b[0m",
      "\u001b[1;31mNameError\u001b[0m                                 Traceback (most recent call last)",
      "\u001b[1;32m<ipython-input-1-d469fa7d7784>\u001b[0m in \u001b[0;36m<module>\u001b[1;34m\u001b[0m\n\u001b[1;32m----> 1\u001b[1;33m \u001b[0me\u001b[0m\u001b[1;33m.\u001b[0m\u001b[0mstop\u001b[0m\u001b[1;33m(\u001b[0m\u001b[1;33m)\u001b[0m\u001b[1;33m\u001b[0m\u001b[1;33m\u001b[0m\u001b[0m\n\u001b[0m\u001b[0;32m      2\u001b[0m \u001b[1;32mdel\u001b[0m \u001b[0me\u001b[0m\u001b[1;33m\u001b[0m\u001b[1;33m\u001b[0m\u001b[0m\n",
      "\u001b[1;31mNameError\u001b[0m: name 'e' is not defined"
     ]
    }
   ],
   "source": [
    "e.stop()\n",
    "del e\n"
   ]
  },
  {
   "cell_type": "code",
   "execution_count": 4,
   "metadata": {},
   "outputs": [
    {
     "name": "stdout",
     "output_type": "stream",
     "text": [
      "KonstruktorS\n",
      "Konstruktor\n",
      "KonstruktorE\n"
     ]
    },
    {
     "data": {
      "application/vnd.jupyter.widget-view+json": {
       "model_id": "e33d9442b7d645cc85733e46e6fcc2ed",
       "version_major": 2,
       "version_minor": 0
      },
      "text/plain": [
       "HBox(children=(MultiCanvas(height=300), ToggleButton(value=False, icon='play', layout=Layout(height='40px', wi…"
      ]
     },
     "metadata": {},
     "output_type": "display_data"
    },
    {
     "data": {
      "application/vnd.jupyter.widget-view+json": {
       "model_id": "53463c17eded4145afc19ae3f8c0604f",
       "version_major": 2,
       "version_minor": 0
      },
      "text/plain": [
       "HBox(children=(RadioButtons(description='Feldtyp', options=('E', 'B'), value='E'), VBox(children=(FloatSlider(…"
      ]
     },
     "metadata": {},
     "output_type": "display_data"
    },
    {
     "name": "stdout",
     "output_type": "stream",
     "text": [
      "1234 ElektronImFeld 10/14/2021, 20:32:14.905495 s_velocity 12.3\n",
      "1234 ElektronImFeld 10/14/2021, 20:32:14.967995 s_velocity 22.8\n",
      "1234 ElektronImFeld 10/14/2021, 20:32:15.037015 s_velocity 35.7\n",
      "s_velocity 49.4\n",
      "1234 ElektronImFeld 10/14/2021, 20:32:15.168538 s_velocity 59.0\n",
      "1234 ElektronImFeld 10/14/2021, 20:32:16.109160 b_play True\n"
     ]
    }
   ],
   "source": []
  },
  {
   "cell_type": "code",
   "execution_count": 10,
   "metadata": {},
   "outputs": [
    {
     "ename": "NameError",
     "evalue": "name 'e' is not defined",
     "output_type": "error",
     "traceback": [
      "\u001b[1;31m---------------------------------------------------------------------------\u001b[0m",
      "\u001b[1;31mNameError\u001b[0m                                 Traceback (most recent call last)",
      "\u001b[1;32m<ipython-input-10-a6338c8149be>\u001b[0m in \u001b[0;36m<module>\u001b[1;34m\u001b[0m\n\u001b[1;32m----> 1\u001b[1;33m \u001b[0me\u001b[0m\u001b[1;33m.\u001b[0m\u001b[0mstart\u001b[0m\u001b[1;33m(\u001b[0m\u001b[1;33m)\u001b[0m\u001b[1;33m\u001b[0m\u001b[1;33m\u001b[0m\u001b[0m\n\u001b[0m",
      "\u001b[1;31mNameError\u001b[0m: name 'e' is not defined"
     ]
    }
   ],
   "source": []
  },
  {
   "cell_type": "code",
   "execution_count": null,
   "metadata": {},
   "outputs": [],
   "source": []
  }
 ],
 "metadata": {
  "kernelspec": {
   "display_name": "Python 3",
   "language": "python",
   "name": "python3"
  },
  "language_info": {
   "codemirror_mode": {
    "name": "ipython",
    "version": 3
   },
   "file_extension": ".py",
   "mimetype": "text/x-python",
   "name": "python",
   "nbconvert_exporter": "python",
   "pygments_lexer": "ipython3",
   "version": "3.7.6"
  }
 },
 "nbformat": 4,
 "nbformat_minor": 4
}
