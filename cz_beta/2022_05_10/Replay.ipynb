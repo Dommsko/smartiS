{
 "cells": [
  {
   "cell_type": "code",
   "execution_count": 11,
   "metadata": {},
   "outputs": [],
   "source": [
    "import import_ipynb\n",
    "from ElektronImFeld import ElektronImFeld\n",
    "from ExampleSmartis import ExampleSmartis\n",
    "from Leiterschleife import Leiterschleife\n",
    "from Kondensator import Kondensator\n",
    "from KomplexeWechselstromrechnung import KomplexeWechselstromrechnung\n",
    "from Widerstandsnetzwerk import Widerstandsnetzwerk\n",
    "from ASmartis import *   \n",
    "from Buttons import *   \n",
    "from Chart import *\n",
    "from ipywidgets import HBox, VBox, Layout,Box\n",
    "from math import pi, sin, cos\n",
    "from IPython.display import display, clear_output\n",
    "import json\n",
    "#clear_output()\n",
    "\n",
    "class Replay(ASmartis):\n",
    "    \n",
    "    def __init__(self,parameterList):\n",
    "        \n",
    "        super().__init__(parameterList)\n",
    "        self.updateTime = 0.5\n",
    "        \n",
    "        super().stopSendInformation()\n",
    "        self.smartisDict ={\"ElektronImFeld\":ElektronImFeld,\"ExampleSmartisTest\":ExampleSmartis, \"KomplexeWechselstromrechnung\":KomplexeWechselstromrechnung,\n",
    "                           \"Leiterschleife\":Leiterschleife, \"Kondensator\":Kondensator, \"Widerstandsnetzwerk\":Widerstandsnetzwerk}\n",
    "        self.smartisObjectDict = {}\n",
    "        self.createSmartisObjects()\n",
    "        self.getCurrentSmartis()\n",
    "        self.replayIndex = 0\n",
    "        self.dataList = []\n",
    "        \n",
    "    def createButtons(self):        \n",
    "        \n",
    "        #Erzeuge das Object, welches alle Buttons managt\n",
    "        self.buttonsObject = Buttons(self)        \n",
    "        \n",
    "        #Erzeuge verschiedene Buttons        \n",
    "        dropdown_smartis = self.buttonsObject.newDropdown(\"dd_smartis\", [], \"smartiS:\")\n",
    "        dropdown_sessionID = self.buttonsObject.newDropdown(\"dd_sessionID\", [], \"Session-ID:\")\n",
    "        button_replay = self.buttonsObject.newReset(\"b_reset\", 30,30)  \n",
    "\n",
    "     \n",
    "        #Aktualisiere ein Dictionary mit den Stati der Buttons        \n",
    "        self.buttonsStatesDict = self.buttonsObject.getStates()\n",
    "        self.oldButtonsStatesDict = dict(self.buttonsStatesDict)\n",
    "        \n",
    "        \n",
    "        self.initalizeSmartisWidget()\n",
    "        self.initalizeSessionIDWidget()\n",
    "            \n",
    "    def createChart(self):\n",
    "        pass\n",
    "\n",
    "        \n",
    "    def createSmartisObjects(self):        \n",
    "        \n",
    "        for name in self.smartisNames:            \n",
    "            s = name.split(\"-\")\n",
    "            smartis = s[0]\n",
    "            arg = s[1].replace(\"(\", \"\").replace(\")\", \"\")\n",
    "            try:\n",
    "                arg = json.loads(arg)\n",
    "            except:\n",
    "                print((arg))\n",
    "            newSmartis = self.smartisDict[smartis](arg)    \n",
    "            newSmartis.stopSendInformation()\n",
    "            newSmartis.updateTime = 0.01\n",
    "\n",
    "            newButtonsObject = newSmartis.getButtonsObject()\n",
    "            newButtonsObject.disable_all(True)\n",
    "            \n",
    "            self.smartisObjectDict[name] = newSmartis\n",
    "            \n",
    "            \n",
    "    def visualize(self): \n",
    "              \n",
    "        \n",
    "        #Darstellung   \n",
    "        buttonsDict = self.buttonsObject.getButtons()\n",
    "        display(HBox([buttonsDict[\"dd_smartis\"],buttonsDict[\"dd_sessionID\"],buttonsDict[\"b_reset\"]]))\n",
    "       \n",
    "        self.out = widgets.Output()\n",
    "        display(self.out)\n",
    "        \n",
    "    \n",
    "    def visualizeSmarti(self):\n",
    "        \n",
    "        with self.out:\n",
    "            clear_output()\n",
    "            self.currentSmartis.visualize()\n",
    "            self.currentButtonsObject.disable_all(True)\n",
    "    \n",
    "    def getCurrentSmartis(self):\n",
    "        \n",
    "        self.currentSmartis = self.smartisObjectDict[self.buttonsStatesDict[\"dd_smartis\"]]            \n",
    "        self.currentButtonsObject = self.currentSmartis.getButtonsObject()\n",
    "             \n",
    "    def update(self):\n",
    "        \n",
    "        if self.oldButtonsStatesDict[\"dd_smartis\"]!= self.buttonsStatesDict[\"dd_smartis\"]:\n",
    "            \n",
    "            self.reset()\n",
    "           \n",
    "            self.getCurrentSmartis()\n",
    "            self.visualizeSmarti()\n",
    "            self.initalizeSessionIDWidget()\n",
    "            \n",
    "        if  self.buttonsStatesDict[\"b_reset\"]:\n",
    "            self.reset()\n",
    "            \n",
    "            if self.buttonsStatesDict[\"dd_sessionID\"]!= None:\n",
    "                self.dataList = self.server.getSession(self.buttonsStatesDict[\"dd_smartis\"],self.buttonsStatesDict[\"dd_sessionID\"])\n",
    "                \n",
    "                self.replayIndex = 0\n",
    "                self.currentSmartis.start()\n",
    "\n",
    "                self.startReplay()\n",
    "                self.buttonsObject.changeState(\"b_reset\",False)\n",
    "            else:\n",
    "                self.buttonsObject.changeState(\"b_reset\",False)\n",
    "\n",
    "                \n",
    "                \n",
    "    def initalizeSmartisWidget(self):\n",
    "        \n",
    "        self.smartisNames = self.server.getAllSmartisNames()\n",
    "        self.buttonsObject.changeOptions(\"dd_smartis\",self.smartisNames)\n",
    "     \n",
    "    \n",
    "    def initalizeSessionIDWidget(self):\n",
    "        \n",
    "        sessionID = self.server.getSessionIDofSmartis(self.buttonsStatesDict[\"dd_smartis\"])\n",
    "        self.buttonsObject.changeOptions(\"dd_sessionID\",sessionID)\n",
    "        \n",
    "        \n",
    "    def startReplay(self):\n",
    "        \n",
    "        \n",
    "        #ListPositions:\n",
    "        sessionIDPosition = 0\n",
    "        smartisPosition = 1\n",
    "        smartisArgumentsPosition = 2\n",
    "        timePosition = 3\n",
    "        buttonPosition = 4\n",
    "        valuePosition = 5\n",
    "        dataLength = len(self.dataList)\n",
    "        i = self.replayIndex\n",
    "        currentData = self.dataList[i]\n",
    "        \n",
    "        \n",
    "        \n",
    "             \n",
    "        self.currentButtonsObject.changeState(currentData[buttonPosition],self.castingValue(currentData[valuePosition]))\n",
    "        print(currentData[buttonPosition],self.castingValue(currentData[valuePosition]))\n",
    "        currentTime = datetime.strptime(currentData[timePosition], \"%m/%d/%Y, %H:%M:%S.%f\")-timedelta(seconds=0)\n",
    "        self.currentButtonsObject.disable_all(True)\n",
    "        \n",
    "        if i < dataLength-1:\n",
    "            nextTime = datetime.strptime(self.dataList[i+1][timePosition], \"%m/%d/%Y, %H:%M:%S.%f\")-timedelta(seconds=0)\n",
    "            timeDiff = nextTime-currentTime+timedelta(seconds=self.updateTime)\n",
    "            #print(timeDiff.total_seconds())    \n",
    "            threading.Timer(round(timeDiff.total_seconds(),3), self.startReplay).start()\n",
    "            self.replayIndex+=1\n",
    "        \n",
    "        \n",
    "    def castingValue(self,value):\n",
    "        \n",
    "        if \"[\" in value:\n",
    "            value = value.replace(\"[\", \"\")\n",
    "            value = value.replace(\"]\", \"\")\n",
    "            value = value.split(\",\")\n",
    "            newValues = [float(i) for i in value]\n",
    "            return newValues\n",
    "        \n",
    "        if value == \"True\":\n",
    "            return bool(value)\n",
    "        elif value == \"False\":\n",
    "            return False\n",
    "        else:\n",
    "            try:\n",
    "                a = float(value)\n",
    "                b = int(value)\n",
    "                if a != b:\n",
    "                    return a\n",
    "                else:\n",
    "                    return b\n",
    "            except:\n",
    "                #raise ValueError(\"failed to coerce str to int or float\")\n",
    "                return value\n",
    "    \n",
    "    def reset(self):\n",
    "        try:\n",
    "            self.currentSmartis.stop()\n",
    "            self.currentSmartis.reset()\n",
    "        except:\n",
    "            pass\n",
    "        \n",
    "\n",
    "\n",
    "            \n",
    "    def clearFile(self):\n",
    "        \n",
    "        self.server.clearFile()\n",
    "\n",
    "           \n",
    "        \n",
    "    \n",
    "            "
   ]
  },
  {
   "cell_type": "code",
   "execution_count": 13,
   "metadata": {
    "scrolled": false
   },
   "outputs": [
    {
     "name": "stdout",
     "output_type": "stream",
     "text": [
      "None\n",
      "None\n"
     ]
    },
    {
     "data": {
      "application/vnd.jupyter.widget-view+json": {
       "model_id": "7a8514b50b6e42b9a90af2f87cf16fb7",
       "version_major": 2,
       "version_minor": 0
      },
      "text/plain": [
       "HBox(children=(Dropdown(description='smartiS:', options=('KomplexeWechselstromrechnung-None', 'Widerstandsnetz…"
      ]
     },
     "metadata": {},
     "output_type": "display_data"
    },
    {
     "data": {
      "application/vnd.jupyter.widget-view+json": {
       "model_id": "b13fc600abf443808601d47a29897aaa",
       "version_major": 2,
       "version_minor": 0
      },
      "text/plain": [
       "Output()"
      ]
     },
     "metadata": {},
     "output_type": "display_data"
    }
   ],
   "source": [
    "r = Replay(None)\n",
    "r.visualize()\n",
    "r.start()\n",
    "\n"
   ]
  },
  {
   "cell_type": "code",
   "execution_count": 3,
   "metadata": {},
   "outputs": [
    {
     "ename": "NameError",
     "evalue": "name 'r' is not defined",
     "output_type": "error",
     "traceback": [
      "\u001b[1;31m---------------------------------------------------------------------------\u001b[0m",
      "\u001b[1;31mNameError\u001b[0m                                 Traceback (most recent call last)",
      "\u001b[1;32mC:\\Users\\CHARLO~1\\AppData\\Local\\Temp/ipykernel_5252/3569689401.py\u001b[0m in \u001b[0;36m<module>\u001b[1;34m\u001b[0m\n\u001b[1;32m----> 1\u001b[1;33m \u001b[0mr\u001b[0m\u001b[1;33m.\u001b[0m\u001b[0mclearFile\u001b[0m\u001b[1;33m(\u001b[0m\u001b[1;33m)\u001b[0m\u001b[1;33m\u001b[0m\u001b[1;33m\u001b[0m\u001b[0m\n\u001b[0m",
      "\u001b[1;31mNameError\u001b[0m: name 'r' is not defined"
     ]
    }
   ],
   "source": [
    "r.clearFile()"
   ]
  },
  {
   "cell_type": "code",
   "execution_count": 4,
   "metadata": {},
   "outputs": [
    {
     "data": {
      "application/vnd.jupyter.widget-view+json": {
       "model_id": "3f46041b50124d8dacd9c359ad29706c",
       "version_major": 2,
       "version_minor": 0
      },
      "text/plain": [
       "HBox(children=(Box(children=(MultiCanvas(height=225, width=332),), layout=Layout(height='40%', width='40%')), …"
      ]
     },
     "metadata": {},
     "output_type": "display_data"
    },
    {
     "data": {
      "application/vnd.jupyter.widget-view+json": {
       "model_id": "96de96f85647494ab8fc0f17692ab4c6",
       "version_major": 2,
       "version_minor": 0
      },
      "text/plain": [
       "HBox(children=(Box(children=(MultiCanvas(height=600, width=360),), layout=Layout(width='30%')), VBox(children=…"
      ]
     },
     "metadata": {},
     "output_type": "display_data"
    },
    {
     "data": {
      "application/vnd.jupyter.widget-view+json": {
       "model_id": "6f285700ad994110bf0ac891933bab0e",
       "version_major": 2,
       "version_minor": 0
      },
      "text/plain": [
       "VBox(children=(MultiCanvas(width=1200), HBox(children=(ToggleButton(value=False, icon='play', layout=Layout(he…"
      ]
     },
     "metadata": {},
     "output_type": "display_data"
    }
   ],
   "source": [
    "\n",
    "#display(print(\"bluB\"))\n",
    "a =KomplexeWechselstromrechnung(None)\n",
    "a.visualize()\n",
    "a.start()"
   ]
  },
  {
   "cell_type": "code",
   "execution_count": null,
   "metadata": {},
   "outputs": [],
   "source": []
  },
  {
   "cell_type": "code",
   "execution_count": null,
   "metadata": {},
   "outputs": [],
   "source": []
  }
 ],
 "metadata": {
  "kernelspec": {
   "display_name": "Python 3 (ipykernel)",
   "language": "python",
   "name": "python3"
  },
  "language_info": {
   "codemirror_mode": {
    "name": "ipython",
    "version": 3
   },
   "file_extension": ".py",
   "mimetype": "text/x-python",
   "name": "python",
   "nbconvert_exporter": "python",
   "pygments_lexer": "ipython3",
   "version": "3.7.11"
  }
 },
 "nbformat": 4,
 "nbformat_minor": 4
}
