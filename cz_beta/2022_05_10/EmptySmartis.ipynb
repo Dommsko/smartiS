{
 "cells": [
  {
   "cell_type": "code",
   "execution_count": 2,
   "metadata": {},
   "outputs": [],
   "source": [
    "from ASmartis import * \n",
    "class EmptySmartis(ASmartis):\n",
    "    \n",
    "    def __init__(self,parameterList):\n",
    "        super().__init__(parameterList)\n",
    "        \n",
    "    def createButtons(self):\n",
    "        pass            \n",
    "    def createChart(self):\n",
    "        pass        \n",
    "    def visualize(self):  \n",
    "        pass\n",
    "    def update(self): \n",
    "        pass\n",
    "    def reset(self):\n",
    "        pass"
   ]
  }
 ],
 "metadata": {
  "kernelspec": {
   "display_name": "Python 3",
   "language": "python",
   "name": "python3"
  },
  "language_info": {
   "codemirror_mode": {
    "name": "ipython",
    "version": 3
   },
   "file_extension": ".py",
   "mimetype": "text/x-python",
   "name": "python",
   "nbconvert_exporter": "python",
   "pygments_lexer": "ipython3",
   "version": "3.7.6"
  }
 },
 "nbformat": 4,
 "nbformat_minor": 4
}
