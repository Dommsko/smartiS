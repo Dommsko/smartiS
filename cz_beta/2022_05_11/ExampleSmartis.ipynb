{
 "cells": [
  {
   "cell_type": "code",
   "execution_count": 1,
   "metadata": {},
   "outputs": [],
   "source": [
    "from ASmartis import * \n",
    "from ipywidgets import HBox\n",
    "\n",
    "class ExampleSmartis(ASmartis):\n",
    "    \n",
    "    def __init__(self,parameterList):\n",
    "        self.xPosition = 50\n",
    "        super().__init__(parameterList)\n",
    "        \n",
    "        \n",
    "    def createButtons(self):        \n",
    "        self.buttonsObject = Buttons(self)\n",
    "        self.buttonsObject.newReset(\"b_reset\", 40,40)\n",
    "                \n",
    "        self.buttonsStatesDict = self.buttonsObject.getStates()\n",
    "        self.oldButtonsStatesDict = dict(self.buttonsStatesDict)\n",
    "        \n",
    "            \n",
    "    def createChart(self):        \n",
    "        self.layers = [\"circle\"]        \n",
    "        self.chartObject = Chart(self.layers, 200, 100)\n",
    "\n",
    "        self.chartObject.changeLayerLook(self.layers[0],\"fillingColor\",\"#00ff00\")        \n",
    "        self.chartObject.update(self.layers[0])   \n",
    "\n",
    "        \n",
    "    def visualize(self):          \n",
    "        chart = self.chartObject.getChart()\n",
    "        buttonsDict = self.buttonsObject.getButtons()\n",
    "          \n",
    "        display(HBox([chart,buttonsDict[\"b_reset\"]]))\n",
    "        \n",
    "        \n",
    "    def update(self):                     \n",
    "        if self.buttonsStatesDict[\"b_reset\"]:\n",
    "            self.reset()            \n",
    "        else:            \n",
    "            newXPosition = self.xPosition + 20*self.updateTime\n",
    "            self.xPosition = newXPosition \n",
    "        \n",
    "        self.updateCircle()\n",
    "        \n",
    "    def reset(self):\n",
    "        self.xPosition = 50\n",
    "        self.buttonsObject.changeState(\"b_reset\",False)\n",
    "        \n",
    "    def updateCircle(self):       \n",
    "        self.chartObject.clearLayer(self.layers[0])\n",
    "        self.chartObject.drawCircle(self.layers[0],self.xPosition, 50, 10) \n",
    "        self.chartObject.update(self.layers[0])"
   ]
  },
  {
   "cell_type": "code",
   "execution_count": 2,
   "metadata": {
    "scrolled": false
   },
   "outputs": [
    {
     "data": {
      "application/vnd.jupyter.widget-view+json": {
       "model_id": "2b192a13df084d149ac99e50fc7a16d2",
       "version_major": 2,
       "version_minor": 0
      },
      "text/plain": [
       "HBox(children=(MultiCanvas(height=100, width=200), ToggleButton(value=False, icon='undo', layout=Layout(height…"
      ]
     },
     "metadata": {},
     "output_type": "display_data"
    }
   ],
   "source": [
    "if __name__ == '__main__':\n",
    "    ex = ExampleSmartis(None)\n",
    "    ex.visualize()\n",
    "    ex.start()\n",
    "    \n"
   ]
  },
  {
   "cell_type": "raw",
   "metadata": {},
   "source": []
  },
  {
   "cell_type": "code",
   "execution_count": null,
   "metadata": {},
   "outputs": [],
   "source": []
  },
  {
   "cell_type": "code",
   "execution_count": null,
   "metadata": {},
   "outputs": [],
   "source": []
  }
 ],
 "metadata": {
  "kernelspec": {
   "display_name": "Python 3 (ipykernel)",
   "language": "python",
   "name": "python3"
  },
  "language_info": {
   "codemirror_mode": {
    "name": "ipython",
    "version": 3
   },
   "file_extension": ".py",
   "mimetype": "text/x-python",
   "name": "python",
   "nbconvert_exporter": "python",
   "pygments_lexer": "ipython3",
   "version": "3.7.11"
  }
 },
 "nbformat": 4,
 "nbformat_minor": 4
}
