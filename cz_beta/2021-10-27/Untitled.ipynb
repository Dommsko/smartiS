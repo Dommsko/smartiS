{
 "cells": [
  {
   "cell_type": "code",
   "execution_count": null,
   "metadata": {},
   "outputs": [],
   "source": [
    "    def drawElectron(self):\n",
    "        \n",
    "        currentElectronLayer = \"elektron\"\n",
    "        currentPathLayer = \"path\"\n",
    "        \n",
    "        xPosition = self.oldElectronPosition[0]\n",
    "        yPosition = self.oldElectronPosition[1]\n",
    "        zPosition = self.oldElectronPosition[2]\n",
    "        \n",
    "        self.chartObject.drawCircle(currentElectronLayer,xPosition, yPosition, zPosition,0)  \n",
    "        self.chartObject.drawCircle(currentPathLayer,xPosition, yPosition,1,1)\n",
    "        self.chartObject.update(currentElectronLayer,currentPathLayer)"
   ]
  }
 ],
 "metadata": {
  "kernelspec": {
   "display_name": "Python 3",
   "language": "python",
   "name": "python3"
  },
  "language_info": {
   "codemirror_mode": {
    "name": "ipython",
    "version": 3
   },
   "file_extension": ".py",
   "mimetype": "text/x-python",
   "name": "python",
   "nbconvert_exporter": "python",
   "pygments_lexer": "ipython3",
   "version": "3.7.6"
  }
 },
 "nbformat": 4,
 "nbformat_minor": 4
}
