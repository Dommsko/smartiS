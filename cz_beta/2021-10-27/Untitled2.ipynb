{
 "cells": [
  {
   "cell_type": "code",
   "execution_count": null,
   "metadata": {},
   "outputs": [],
   "source": [
    "        self.buttonsObject = Buttons(self)        \n",
    "        \n",
    "        self.buttonsObject.newRadioButtons(\"DictionaryName\", [\"Choice-1a\",\"Choice-1b\"], \"Description\")\n",
    "                \n",
    "        self.buttonStatesDict = self.buttonsObject.getStates()\n",
    "        self.buttonsDict = self.buttonsObject.getButtons()\n",
    "        \n",
    "        display(self.buttonsDict[\"DictionaryName\"])\n",
    "                \n",
    "        self.buttonsObject.changeOptions(\"DictionaryName\",[\"Choice-2a\",\"Choice-2b\",\"Choice-2c\"])\n",
    "        self.buttonsObject.changeState(\"DictionaryName\",\"Choice-2b\")\n",
    "        "
   ]
  }
 ],
 "metadata": {
  "kernelspec": {
   "display_name": "Python 3",
   "language": "python",
   "name": "python3"
  },
  "language_info": {
   "codemirror_mode": {
    "name": "ipython",
    "version": 3
   },
   "file_extension": ".py",
   "mimetype": "text/x-python",
   "name": "python",
   "nbconvert_exporter": "python",
   "pygments_lexer": "ipython3",
   "version": "3.7.6"
  }
 },
 "nbformat": 4,
 "nbformat_minor": 4
}
