{
 "cells": [
  {
   "cell_type": "code",
   "execution_count": 1,
   "metadata": {},
   "outputs": [],
   "source": [
    "from ASmartis import *   \n",
    "from Buttons import *   \n",
    "from Chart2 import *\n",
    "from ipywidgets import HBox, VBox, Layout"
   ]
  },
  {
   "cell_type": "code",
   "execution_count": 2,
   "metadata": {},
   "outputs": [],
   "source": [
    "class ExampleSmarti(ASmartis):\n",
    "    \n",
    "    def __init__(self,parameterList):\n",
    "        self.oldXPosition = 50\n",
    "        super().__init__(parameterList)\n",
    "        \n",
    "        \n",
    "    def createButtons(self):\n",
    "        \n",
    "        self.buttonsObject = Buttons(self)        \n",
    "        \n",
    "        button_play = self.buttonsObject.newReset(\"b_reset\", 40,40)\n",
    "                \n",
    "        self.buttonStatesDict = self.buttonsObject.getStates()\n",
    "        self.oldButtonStatesDict = dict(self.buttonStatesDict)\n",
    "        \n",
    "            \n",
    "    def createChart(self):\n",
    "        \n",
    "        self.layers = [\"circle\"]\n",
    "        self.chartWidth = 700\n",
    "        self.chartHeight = 300\n",
    "        \n",
    "        self.chartObject = Chart(self.layers, self.chartWidth, self.chartHeight)\n",
    "        \n",
    "        currentLayer = \"circle\"\n",
    "        self.chartObject.changeLayerLook(currentLayer,\"fillingColor\",\"#00ff00\")\n",
    "        self.chartObject.update(currentLayer)   \n",
    "\n",
    "        \n",
    "    def visualize(self):   \n",
    "        \n",
    "        self.chart = self.chartObject.getChart()\n",
    "        self.buttonsDict = self.buttonsObject.getButtons()\n",
    "          \n",
    "        display(HBox([self.chart,self.buttonsDict[\"b_reset\"]]))\n",
    "        \n",
    "        \n",
    "    def update(self):     \n",
    "                \n",
    "        if self.buttonStatesDict[\"b_reset\"]:\n",
    "            self.oldXPosition = 50\n",
    "            self.buttonsObject.changeState(\"b_reset\",False)\n",
    "            \n",
    "        newXPosition = self.oldXPosition + 50*self.updateTime\n",
    "                   \n",
    "        currentLayer = \"circle\"        \n",
    "        self.chartObject.drawCircle(currentLayer,newXPosition, 150, 20,0) \n",
    "        self.chartObject.update(currentLayer)\n",
    "        \n",
    "        self.oldXPosition = newXPosition "
   ]
  },
  {
   "cell_type": "code",
   "execution_count": 3,
   "metadata": {
    "scrolled": false
   },
   "outputs": [
    {
     "data": {
      "application/vnd.jupyter.widget-view+json": {
       "model_id": "6e6d391357954da385e7837b4ae726ba",
       "version_major": 2,
       "version_minor": 0
      },
      "text/plain": [
       "HBox(children=(MultiCanvas(height=300), ToggleButton(value=False, icon='undo', layout=Layout(height='40px', wi…"
      ]
     },
     "metadata": {},
     "output_type": "display_data"
    }
   ],
   "source": [
    "empty = ExampleSmarti(\"test\")\n",
    "empty.start()\n",
    "empty.visualize()\n"
   ]
  },
  {
   "cell_type": "code",
   "execution_count": null,
   "metadata": {},
   "outputs": [],
   "source": []
  },
  {
   "cell_type": "code",
   "execution_count": 31,
   "metadata": {},
   "outputs": [],
   "source": [
    "empty.stop()\n",
    "del empty\n",
    "\n"
   ]
  },
  {
   "cell_type": "raw",
   "metadata": {},
   "source": []
  },
  {
   "cell_type": "code",
   "execution_count": null,
   "metadata": {},
   "outputs": [],
   "source": []
  }
 ],
 "metadata": {
  "kernelspec": {
   "display_name": "Python 3",
   "language": "python",
   "name": "python3"
  },
  "language_info": {
   "codemirror_mode": {
    "name": "ipython",
    "version": 3
   },
   "file_extension": ".py",
   "mimetype": "text/x-python",
   "name": "python",
   "nbconvert_exporter": "python",
   "pygments_lexer": "ipython3",
   "version": "3.7.6"
  }
 },
 "nbformat": 4,
 "nbformat_minor": 4
}
