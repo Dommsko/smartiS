{
 "cells": [
  {
   "cell_type": "code",
   "execution_count": 1,
   "metadata": {},
   "outputs": [],
   "source": []
  },
  {
   "cell_type": "code",
   "execution_count": 17,
   "metadata": {},
   "outputs": [],
   "source": [
    "import import_ipynb\n",
    "from ElektronImFeld import ElektronImFeld\n",
    "from EmptySmarti import ExampleSmarti\n",
    "from ASmartis import *   \n",
    "from Buttons import *   \n",
    "from Chart2 import *\n",
    "from ipywidgets import HBox, VBox, Layout\n",
    "from math import pi, sin, cos\n",
    "from IPython.display import display, clear_output\n",
    "clear_output()\n",
    "\n",
    "class Replay(ASmartis):\n",
    "    \n",
    "    def __init__(self,parameterList):\n",
    "        \n",
    "        super().__init__(parameterList)\n",
    "        #self.updateTime = 0.5\n",
    "        \n",
    "        self.stopSendInformation()\n",
    "        self.smartiDict ={\"ElektronImFeld\":ElektronImFeld,\"ExampleSmarti\":ExampleSmarti}\n",
    "        \n",
    "        self.createSmartiObjects()\n",
    "        self.getCurrentSmarti()\n",
    "        self.replayIndex = 0\n",
    "        self.dataArray = []\n",
    "        \n",
    "       \n",
    "        \n",
    "        \n",
    "        \n",
    "    def createButtons(self):        \n",
    "        \n",
    "        #Erzeuge das Object, welches alle Buttons managt\n",
    "        self.buttonsObject = Buttons(self)        \n",
    "        \n",
    "        #Erzeuge verschiedene Buttons        \n",
    "        dropdown_smarti = self.buttonsObject.newDropdown(\"dd_smarti\", [], \"SmartI:\")\n",
    "        dropdown_sessionID = self.buttonsObject.newDropdown(\"dd_sessionID\", [], \"Session-ID:\")\n",
    "        button_runNumber = self.buttonsObject.newTogglePlayPause(\"b_runNumber\", 30,30)  \n",
    "\n",
    "     \n",
    "        #Aktualisiere ein Dictionarie mit den Stati der Buttons        \n",
    "        self.buttonStatesDict = self.buttonsObject.getStates()\n",
    "        self.oldButtonStatesDict = dict(self.buttonStatesDict)\n",
    "        self.buttonsDict = self.buttonsObject.getButtons()\n",
    "        \n",
    "        self.initalizeSmartiWidget()\n",
    "        self.initalizeSessionIDWidget()\n",
    "        \n",
    "       \n",
    "            \n",
    "    def createChart(self):\n",
    "        pass\n",
    "\n",
    "        \n",
    "    def createSmartiObjects(self):\n",
    "        \n",
    "        self.smartiObjectDict = {}\n",
    "        for name in self.smartiNames:            \n",
    "            s = name.split(\"-\")\n",
    "            smarti = s[0]\n",
    "            arg = s[1].replace(\"(\", \"\").replace(\")\", \"\")\n",
    "            \n",
    "            newSmarti = self.smartiDict[smarti](arg)    \n",
    "            newSmarti.stopSendInformation()\n",
    "\n",
    "            newButtonObject = newSmarti.getButtonObject()\n",
    "            newButtons = newButtonObject.getButtons()\n",
    "\n",
    "            for key in newButtons:\n",
    "                #print(self.currentButtons[key])\n",
    "                newButtonObject.disabled(key,True)\n",
    "            \n",
    "            self.smartiObjectDict[name] = newSmarti\n",
    "            \n",
    "            \n",
    "    def visualize(self): \n",
    "        \n",
    "        clear_output()        \n",
    "        \n",
    "        #Darstellung   \n",
    "        display(HBox([self.buttonsDict[\"dd_smarti\"],self.buttonsDict[\"dd_sessionID\"],self.buttonsDict[\"b_runNumber\"]]))\n",
    "        self.currentSmarti.visualize()\n",
    "\n",
    "    \n",
    "    \n",
    "    def getCurrentSmarti(self):\n",
    "        \n",
    "        self.currentSmarti = self.smartiObjectDict[self.buttonStatesDict[\"dd_smarti\"]]\n",
    "            \n",
    "        self.currentButtonObject = self.currentSmarti.getButtonObject()\n",
    "        self.currentButtons = self.currentButtonObject.getButtons()\n",
    "        \n",
    "        self.currentSmarti.start()\n",
    "            \n",
    "        \n",
    "\n",
    "     \n",
    "    def update(self):\n",
    "        \n",
    "        if self.oldButtonStatesDict[\"dd_smarti\"]!= self.buttonStatesDict[\"dd_smarti\"]:\n",
    "            self.currentSmarti.stop()\n",
    "            #self.currentSmarti.reset()\n",
    "            \n",
    "            self.getCurrentSmarti()\n",
    "            self.visualize()\n",
    "            self.initalizeSessionIDWidget()\n",
    "        if self.oldButtonStatesDict[\"b_runNumber\"]!= self.buttonStatesDict[\"b_runNumber\"]:\n",
    "            if self.buttonStatesDict[\"dd_sessionID\"]!= None:\n",
    "                self.dataArray = self.server.getSession(self.buttonStatesDict[\"dd_smarti\"],self.buttonStatesDict[\"dd_sessionID\"])\n",
    "                #self.currentSmarti.reset()\n",
    "                \n",
    "                self.replayIndex = 0\n",
    "                \n",
    "                self.startReplay()\n",
    "                self.buttonsObject.changeState(\"b_runNumber\",False)\n",
    "            else:\n",
    "                self.buttonsObject.changeState(\"b_runNumber\",False)\n",
    "                \n",
    "                \n",
    "    def initalizeSmartiWidget(self):\n",
    "        \n",
    "        self.smartiNames = self.server.getAllSmartiNames()\n",
    "        self.buttonsObject.changeOptions(\"dd_smarti\",self.smartiNames)\n",
    "     \n",
    "    \n",
    "    def initalizeSessionIDWidget(self):\n",
    "        \n",
    "        sessionID = self.server.getSessionIDofSmarti(self.buttonStatesDict[\"dd_smarti\"])\n",
    "        self.buttonsObject.changeOptions(\"dd_sessionID\",sessionID)\n",
    "        \n",
    "        \n",
    "    def startReplay(self):\n",
    "        \n",
    "        #Array Positions:\n",
    "        sessionIDPosition = 0\n",
    "        smartiPosition = 1\n",
    "        smartiArgumentsPosition = 2\n",
    "        timePosition = 3\n",
    "        buttonPosition = 4\n",
    "        valuePosition = 5\n",
    "        dataLength = len(self.dataArray)\n",
    "        i = self.replayIndex\n",
    "        currentData = self.dataArray[i]\n",
    "        \n",
    "             \n",
    "        self.currentButtonObject.changeState(currentData[buttonPosition],self.castingValue(currentData[valuePosition]))\n",
    "        #print(currentData[buttonPosition],self.castingValue(currentData[valuePosition]))\n",
    "        currentTime = datetime.strptime(currentData[timePosition], \"%m/%d/%Y, %H:%M:%S.%f\")-timedelta(seconds=0)\n",
    "        \n",
    "        \n",
    "        if i < dataLength-1:\n",
    "            nextTime = datetime.strptime(self.dataArray[i+1][timePosition], \"%m/%d/%Y, %H:%M:%S.%f\")-timedelta(seconds=0)\n",
    "            timeDiff = nextTime-currentTime\n",
    "            #print(timeDiff.total_seconds())    \n",
    "            threading.Timer(round(timeDiff.total_seconds(),3), self.startReplay).start()\n",
    "            self.replayIndex+=1\n",
    "        \n",
    "        \n",
    "    def castingValue(self,value):\n",
    "        \n",
    "        if value == \"True\":\n",
    "            return bool(value)\n",
    "        elif value == \"False\":\n",
    "            return False\n",
    "        else:\n",
    "            try:\n",
    "                a = float(value)\n",
    "                b = int(value)\n",
    "                if a != b:\n",
    "                    return a\n",
    "                else:\n",
    "                    return b\n",
    "            except:\n",
    "                #raise ValueError(\"failed to coerce str to int or float\")\n",
    "                return value\n",
    "            \n",
    "            \n",
    "    def clearFile(self):\n",
    "        \n",
    "        self.server.clearFile()\n",
    "\n",
    "           \n",
    "        \n",
    "    \n",
    "            "
   ]
  },
  {
   "cell_type": "code",
   "execution_count": 18,
   "metadata": {
    "scrolled": false
   },
   "outputs": [
    {
     "data": {
      "application/vnd.jupyter.widget-view+json": {
       "model_id": "f1bc20a799204f9abf36c713699bb23d",
       "version_major": 2,
       "version_minor": 0
      },
      "text/plain": [
       "HBox(children=(Dropdown(description='SmartI:', options=('ElektronImFeld-None',), value='ElektronImFeld-None'),…"
      ]
     },
     "metadata": {},
     "output_type": "display_data"
    },
    {
     "data": {
      "application/vnd.jupyter.widget-view+json": {
       "model_id": "1d82aefbd19f41cba9833d83f5a904a0",
       "version_major": 2,
       "version_minor": 0
      },
      "text/plain": [
       "HBox(children=(MultiCanvas(height=300), ToggleButton(value=False, disabled=True, icon='play', layout=Layout(he…"
      ]
     },
     "metadata": {},
     "output_type": "display_data"
    },
    {
     "data": {
      "application/vnd.jupyter.widget-view+json": {
       "model_id": "68ff0503e51f4627a73c50ec55426e22",
       "version_major": 2,
       "version_minor": 0
      },
      "text/plain": [
       "HBox(children=(RadioButtons(description='Feldtyp', disabled=True, options=('E', 'B'), value='E'), VBox(childre…"
      ]
     },
     "metadata": {},
     "output_type": "display_data"
    }
   ],
   "source": [
    "r = Replay(None)\n",
    "r.visualize()\n",
    "r.start()\n",
    "\n"
   ]
  },
  {
   "cell_type": "code",
   "execution_count": 15,
   "metadata": {},
   "outputs": [],
   "source": [
    "r.clearFile()"
   ]
  },
  {
   "cell_type": "code",
   "execution_count": 3,
   "metadata": {},
   "outputs": [],
   "source": [
    "e.stop()"
   ]
  },
  {
   "cell_type": "code",
   "execution_count": null,
   "metadata": {},
   "outputs": [],
   "source": []
  },
  {
   "cell_type": "code",
   "execution_count": null,
   "metadata": {},
   "outputs": [],
   "source": []
  }
 ],
 "metadata": {
  "kernelspec": {
   "display_name": "Python 3",
   "language": "python",
   "name": "python3"
  },
  "language_info": {
   "codemirror_mode": {
    "name": "ipython",
    "version": 3
   },
   "file_extension": ".py",
   "mimetype": "text/x-python",
   "name": "python",
   "nbconvert_exporter": "python",
   "pygments_lexer": "ipython3",
   "version": "3.7.6"
  }
 },
 "nbformat": 4,
 "nbformat_minor": 4
}
